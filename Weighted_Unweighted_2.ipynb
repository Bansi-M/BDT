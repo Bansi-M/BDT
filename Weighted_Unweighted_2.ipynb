{
 "cells": [
  {
   "cell_type": "markdown",
   "metadata": {},
   "source": [
    "# BDT - Background and Signal distribution"
   ]
  },
  {
   "cell_type": "code",
   "execution_count": 5,
   "metadata": {},
   "outputs": [],
   "source": [
    "import numpy as np\n",
    "import matplotlib.pyplot as plt\n",
    "from sklearn.model_selection import train_test_split\n",
    "from sklearn.ensemble import AdaBoostClassifier\n",
    "from sklearn.tree import DecisionTreeClassifier\n",
    "from sklearn.preprocessing import StandardScaler\n",
    "import pandas as pd\n",
    "import math\n",
    "\n",
    "signal_all = pd.DataFrame()\n",
    "signal_mass = [300, 420, 440, 460, 500, 600, 700, 800, 900, 1000, 1200, 1400, 1600, 2000]\n",
    "for each in signal_mass:\n",
    "    df_temp = pd.read_csv(str(each) + \".csv\", index_col=0)\n",
    "    df_temp[\"mass\"] = each\n",
    "    df_temp.drop(columns=[\"nTags\", \"MCChannelNumber\", \"mVHres\"], inplace=True)\n",
    "    signal_all = pd.concat([df_temp, signal_all], ignore_index=True)\n",
    "\n",
    "signal_one = pd.read_csv('300.csv', index_col=0)\n",
    "signal_one.drop([\"nTags\", \"MCChannelNumber\", \"mVHres\"], axis=1, inplace=True)\n",
    "    \n",
    "background = pd.read_csv(\"background.csv\", index_col=0)\n",
    "background.drop([\"nTags\", \"MCChannelNumber\", \"mVHres\"], axis=1, inplace=True)"
   ]
  },
  {
   "cell_type": "code",
   "execution_count": 7,
   "metadata": {},
   "outputs": [],
   "source": [
    "originalweight_signal = pd.DataFrame()\n",
    "for each in signal_mass:\n",
    "    df_temp = pd.read_csv(str(each) + \".csv\", index_col=0)\n",
    "    df_temp.drop(df_temp.columns.difference(['weight']), 1, inplace=True)\n",
    "    originalweight_signal = pd.concat([df_temp, originalweight_signal], ignore_index=True)\n",
    "    \n",
    "originalweight_bkg = pd.DataFrame() \n",
    "bkg_other = pd.read_csv(\"background.csv\", index_col=0)\n",
    "bkg_other.drop(bkg_other.columns.difference(['weight']), 1, inplace=True)\n",
    "originalweight_bkg = pd.concat([bkg_other, originalweight_bkg], ignore_index=True)"
   ]
  },
  {
   "cell_type": "markdown",
   "metadata": {},
   "source": [
    "#### Sum of the weights"
   ]
  },
  {
   "cell_type": "code",
   "execution_count": 8,
   "metadata": {},
   "outputs": [
    {
     "name": "stdout",
     "output_type": "stream",
     "text": [
      "9374.097906823557\n",
      "20153.143775385306\n"
     ]
    }
   ],
   "source": [
    "sum_signal_weights = originalweight_signal['weight'].sum()\n",
    "print(sum_signal_weights)\n",
    "\n",
    "sum_bkg_weights = originalweight_bkg['weight'].sum()\n",
    "print(sum_bkg_weights)"
   ]
  },
  {
   "cell_type": "markdown",
   "metadata": {},
   "source": [
    "#### train_test_split on signals and bkg separately:"
   ]
  },
  {
   "cell_type": "code",
   "execution_count": 9,
   "metadata": {},
   "outputs": [],
   "source": [
    "train_bkg, test_bkg = train_test_split(background, test_size=0.4, random_state=2) #splitting bkg into train and test\n",
    "train_signal, test_signal = train_test_split(signal_all, test_size=0.4, random_state=2) #splitting signal into train and test "
   ]
  },
  {
   "cell_type": "markdown",
   "metadata": {},
   "source": [
    "####  Removing negative weight from background after train_test_split for the training dataset only"
   ]
  },
  {
   "cell_type": "code",
   "execution_count": 10,
   "metadata": {
    "collapsed": true
   },
   "outputs": [],
   "source": [
    "train_bkg = train_bkg[train_bkg[\"weight\"]>0 ] "
   ]
  },
  {
   "cell_type": "markdown",
   "metadata": {},
   "source": [
    "#### Reweighting signals so they are all equal"
   ]
  },
  {
   "cell_type": "code",
   "execution_count": 11,
   "metadata": {},
   "outputs": [
    {
     "name": "stderr",
     "output_type": "stream",
     "text": [
      "C:\\Users\\bmand\\Anaconda3\\lib\\site-packages\\pandas\\core\\indexing.py:966: SettingWithCopyWarning: \n",
      "A value is trying to be set on a copy of a slice from a DataFrame.\n",
      "Try using .loc[row_indexer,col_indexer] = value instead\n",
      "\n",
      "See the caveats in the documentation: https://pandas.pydata.org/pandas-docs/stable/user_guide/indexing.html#returning-a-view-versus-a-copy\n",
      "  self.obj[item] = s\n"
     ]
    }
   ],
   "source": [
    "val_bkg, test_bkg = train_test_split(test_bkg, test_size=0.5, random_state=2)\n",
    "val_signal, test_signal = train_test_split(test_signal, test_size=0.5, random_state=2)\n",
    "\n",
    "train_bkg.loc[:, \"weight\"] = np.abs(train_bkg[\"weight\"])\n",
    "val_bkg.loc[:, \"weight\"] = np.abs(val_bkg[\"weight\"])\n",
    "train_signal.loc[:, \"weight\"] = np.sum(train_bkg[\"weight\"])/np.sum(train_signal[\"weight\"])\n",
    "for each in signal_mass:\n",
    "        val_signal.loc[val_signal[\"mass\"]==each].loc[:, \"weight\"] = np.sum(val_bkg[\"weight\"])/np.sum(val_signal.loc[val_signal[\"mass\"]==each][\"weight\"])/len(signal_mass)"
   ]
  },
  {
   "cell_type": "markdown",
   "metadata": {},
   "source": [
    "#### Change the weights of training signal so the sum is the same as that of bkg:"
   ]
  },
  {
   "cell_type": "code",
   "execution_count": 12,
   "metadata": {
    "collapsed": true
   },
   "outputs": [],
   "source": [
    "train_signal_weight = train_signal[\"weight\"] * np.sum(train_bkg[\"weight\"])/np.sum(train_signal[\"weight\"])\n",
    "\n",
    "test_signal_weight = signal_one[\"weight\"] * np.sum(test_bkg[\"weight\"])/np.sum(signal_one[\"weight\"])\n",
    "    \n",
    "test_bkg_weight = test_bkg[\"weight\"].to_numpy()\n",
    "\n",
    "train_bkg_weight = train_bkg[\"weight\"].to_numpy()\n",
    "\n",
    "train_signal_nominal = train_signal[\"weight\"].to_numpy()\n",
    "\n",
    "test_signal_nominal = signal_one[\"weight\"].to_numpy()"
   ]
  },
  {
   "cell_type": "markdown",
   "metadata": {},
   "source": [
    "#### Combine train_signal and train_bkg:"
   ]
  },
  {
   "cell_type": "code",
   "execution_count": 13,
   "metadata": {
    "collapsed": true
   },
   "outputs": [],
   "source": [
    "train_y = len(train_bkg) * [0] + len(train_signal) * [1]\n",
    "test_y = len(test_bkg) * [0] + len(signal_one) * [1] \n",
    "\n",
    "train_x = pd.concat([train_bkg, train_signal], ignore_index=True) \n",
    "test_x = pd.concat([test_bkg, signal_one], ignore_index=True) "
   ]
  },
  {
   "cell_type": "markdown",
   "metadata": {},
   "source": [
    "#### Assign the weights to a different variable and drop weights from train_x "
   ]
  },
  {
   "cell_type": "code",
   "execution_count": 14,
   "metadata": {
    "collapsed": true
   },
   "outputs": [],
   "source": [
    "train_weight = train_x[\"weight\"].to_numpy()\n",
    "test_weight = test_x[\"weight\"].to_numpy()\n",
    "\n",
    "train_x.drop([\"weight\", \"mass\"], axis=1, inplace=True)\n",
    "test_x.drop([\"weight\"], axis=1, inplace=True)"
   ]
  },
  {
   "cell_type": "code",
   "execution_count": null,
   "metadata": {
    "collapsed": true
   },
   "outputs": [],
   "source": [
    "def test_BDT(n, d, l):\n",
    "    BDT_clf = AdaBoostClassifier(DecisionTreeClassifier(max_depth=d), algorithm=\"SAMME\", \n",
    "                                 n_estimators=n, learning_rate=l).fit(train_x, train_y, train_weight)\n",
    "    \n",
    "    bkg_train = BDT_clf.decision_function(train_bkg.drop(columns=[\"weight\"]))\n",
    "    signal_train = BDT_clf.decision_function(train_signal.drop(columns=[\"weight\", \"mass\"]))\n",
    "    bkg_test = BDT_clf.decision_function(test_bkg.drop(columns=[\"weight\"]))\n",
    "    signal_test = BDT_clf.decision_function(signal_one.drop(columns=[\"weight\"]))\n",
    "    \n",
    "    c_max = 1\n",
    "    c_min = -1\n",
    "\n",
    "    plt.hist(bkg_test,bins=40,range=(c_min,c_max), histtype='step', fill=False, density=True, weights = test_bkg_weight, \n",
    "             color ='dodgerblue', label=\"Weighted Testing Bkg\")\n",
    "    plt.hist(signal_test,bins=40,range=(c_min,c_max), histtype='step', fill=False, density=True, weights = test_signal_weight, \n",
    "             color ='orange', label=\"Weighted Testing Signal (300)\")\n",
    "    plt.hist(bkg_train,bins=40,range=(c_min,c_max), histtype='step', fill=False, density=True, weights = train_bkg_weight, \n",
    "             color ='limegreen', label=\"Weighted Training Bkg\")\n",
    "    plt.hist(signal_train,bins=40,range=(c_min,c_max), histtype='step', fill=False, density=True, weights = train_signal_weight,\n",
    "             color ='m', label=\"Weighted Training Signal\")\n",
    "    \n",
    "    plt.hist(bkg_test,bins=40,range=(c_min,c_max), histtype='step', fill=False, density=True, weights = test_bkg_weight,\n",
    "             color ='springgreen', label=\"Nominal Testing Bkg\")\n",
    "    plt.hist(signal_test,bins=40,range=(c_min,c_max), histtype='step', fill=False, density=True, weights = test_signal_nominal, \n",
    "             color ='slateblue', label=\"Nominal Testing Signal (300)\")\n",
    "    plt.hist(bkg_train,bins=40,range=(c_min,c_max), histtype='step', fill=False, density=True, weights = train_bkg_weight,\n",
    "             color ='lightcoral', label=\"Nominal Training Bkg\")\n",
    "    plt.hist(signal_train,bins=40,range=(c_min,c_max), histtype='step', fill=False, density=True, weights = train_signal_nominal,\n",
    "             color ='peru', label=\"Nominal Training Signal\")\n",
    "    \n",
    "    filename = \"n={} d={} l={}\".format(n,d,l)\n",
    "    plt.xlabel('BDT output')\n",
    "    plt.ylabel('Frequency (arbitrary units)')\n",
    "    plt.legend(loc=\"upper left\", fontsize = 'small')\n",
    "    plt.title(filename)\n",
    "    plt.savefig(\"Figures_Best/{}.png\".format(filename), dpi=300)\n",
    "    \n",
    "    sighist, _ = np.histogram(signal_test, bins=bins, weights=test_signal_weight)\n",
    "    bkghist, _ = np.histogram(bkg_test, bins=bins, weights=test_bkg_weight)\n",
    "    sighist_train, _ = np.histogram(signal_train, bins=bins, weights=train_signal_weight)\n",
    "    bkghist_train, _ = np.histogram(bkg_train, bins=bins, weights=train_bkg_weight)\n",
    "    \n",
    "    sighist_u, _ = np.histogram(signal_test, bins=bins, weights = test_signal_nominal)\n",
    "    bkghist_u, _ = np.histogram(bkg_test, bins=bins, weights = test_bkg_weight)\n",
    "    sighist_train_u, _ = np.histogram(signal_train, bins=bins, weights = train_signal_nominal)\n",
    "    bkghist_train_u, _ = np.histogram(bkg_train, bins=bins, weights = train_bkg_weight)\n",
    "    \n",
    "    portion = 0.4\n",
    "    logsig = True\n",
    "    \n",
    "    backgrounds_content = np.array(bkghist)/portion\n",
    "    signal_content = np.array(sighist)/portion\n",
    "    backgrounds_content_train = np.array(bkghist_train)/portion\n",
    "    signal_content_train = np.array(sighist_train)/portion\n",
    "    \n",
    "    backgrounds_content_u = np.array(bkghist_u)/portion\n",
    "    signal_content_u = np.array(sighist_u)/portion\n",
    "    backgrounds_content_train_u = np.array(bkghist_train_u)/portion\n",
    "    signal_content_train_u = np.array(sighist_train_u)/portion\n",
    "    \n",
    "    total = 0\n",
    "    \n",
    "    if not logsig:\n",
    "        testing_sig = sum(signal_content)/math.sqrt(sum(backgrounds_content))\n",
    "        training_sig = sum(signal_content_train)/math.sqrt(sum(backgrounds_content_train))\n",
    "        testing_sig_u = sum(signal_content_u)/math.sqrt(sum(backgrounds_content_u))\n",
    "        training_sig_u = sum(signal_content_train_u)/math.sqrt(sum(backgrounds_content_train_u))\n",
    "        return testing_sig, training_sig, testing_sig_u, training_sig_u\n",
    "\n",
    "    for each_b, each_s in zip(backgrounds_content, signal_content):\n",
    "        if each_b > 0 and each_s > 0:\n",
    "            total += 2 * ((each_s + each_b) * math.log(1 + each_s/each_b) - each_s)\n",
    "    test_signif = \"Testing significance (300) for {} is:\".format(filename), math.sqrt(total)\n",
    "\n",
    "    for each_b, each_s in zip(backgrounds_content_train, signal_content_train):\n",
    "        if each_b > 0 and each_s > 0:\n",
    "            total += 2 * ((each_s + each_b) * math.log(1 + each_s/each_b) - each_s)\n",
    "    train_signif = \"Training significance (All) for {} is:\".format(filename), math.sqrt(total)    \n",
    "    \n",
    "    for each_b, each_s in zip(backgrounds_content_u, signal_content_u):\n",
    "        if each_b > 0 and each_s > 0:\n",
    "            total += 2 * ((each_s + each_b) * math.log(1 + each_s/each_b) - each_s)\n",
    "    test_signif_u = \"Nominal Testing significance (300) for {} is:\".format(filename), math.sqrt(total)\n",
    "\n",
    "    for each_b, each_s in zip(backgrounds_content_train_u, signal_content_train_u):\n",
    "        if each_b > 0 and each_s > 0:\n",
    "            total += 2 * ((each_s + each_b) * math.log(1 + each_s/each_b) - each_s)\n",
    "    train_signif_u = \"Nominal Training significance (All) for {} is:\".format(filename), math.sqrt(total)    \n",
    "\n",
    "    return [test_signif, train_signif, test_signif_u, train_signif_u]\n"
   ]
  },
  {
   "cell_type": "code",
   "execution_count": null,
   "metadata": {},
   "outputs": [],
   "source": [
    "n_testing = 750 \n",
    "d_testing = 4\n",
    "l_testing = [1]\n",
    "    \n",
    "bins = np.linspace(-1,1,20)\n",
    "\n",
    "for i in l_testing:\n",
    "    plt.figure()\n",
    "    signif = test_BDT(n_testing, d_testing, i) \n",
    "    \n",
    "    test_sig_final = signif[0]\n",
    "    train_sig_final = signif[1]\n",
    "    test_sig_final_u = signif[2]\n",
    "    train_sig_final_u = signif[3]\n",
    "    \n",
    "    print(test_sig_final)\n",
    "    print(train_sig_final)\n",
    "    print(test_sig_final_u)\n",
    "    print(train_sig_final_u)\n",
    "    \n",
    "    with open(\"Sig_Best_Grid.txt\", \"a\") as output:\n",
    "        output.write(str(test_sig_final) + '\\n')\n",
    "        output.write(str(train_sig_final) + '\\n')\n",
    "        output.write(str(test_sig_final_u) + '\\n')\n",
    "        output.write(str(train_sig_final_u) + '\\n')"
   ]
  },
  {
   "cell_type": "code",
   "execution_count": null,
   "metadata": {
    "collapsed": true
   },
   "outputs": [],
   "source": []
  }
 ],
 "metadata": {
  "kernelspec": {
   "display_name": "Python 3",
   "language": "python",
   "name": "python3"
  }
 },
 "nbformat": 4,
 "nbformat_minor": 4
}
