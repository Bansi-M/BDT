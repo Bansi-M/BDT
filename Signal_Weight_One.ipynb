{
 "cells": [
  {
   "cell_type": "markdown",
   "metadata": {},
   "source": [
    "# BDT - Background and Signal distribution"
   ]
  },
  {
   "cell_type": "markdown",
   "metadata": {},
   "source": [
    "#### Using only the positive weights for the background and training/testing with all masses with their weight = 1"
   ]
  },
  {
   "cell_type": "code",
   "execution_count": 1,
   "metadata": {},
   "outputs": [],
   "source": [
    "import numpy as np\n",
    "import matplotlib.pyplot as plt\n",
    "from sklearn.model_selection import train_test_split\n",
    "from sklearn.ensemble import AdaBoostClassifier\n",
    "from sklearn.tree import DecisionTreeClassifier\n",
    "import seaborn as sns\n",
    "import pandas as pd\n",
    "import math"
   ]
  },
  {
   "cell_type": "code",
   "execution_count": 2,
   "metadata": {},
   "outputs": [],
   "source": [
    "signal_all = pd.DataFrame()\n",
    "signal_mass = [300, 420, 440, 460, 500, 600, 700, 800, 900, 1000, 1200, 1400, 1600, 2000]\n",
    "for each in signal_mass:\n",
    "    df_temp = pd.read_csv(str(each) + \".csv\", index_col=0)\n",
    "    df_temp[\"mass\"] = each\n",
    "    df_temp.drop(columns=[\"nTags\", \"MCChannelNumber\", \"mVHres\"], inplace=True)\n",
    "    signal_all = pd.concat([df_temp, signal_all], ignore_index=True)\n",
    "\n",
    "background = pd.read_csv(\"background.csv\", index_col=0)\n",
    "background.drop([\"nTags\", \"MCChannelNumber\", \"mVHres\"], axis=1, inplace=True)"
   ]
  },
  {
   "cell_type": "code",
   "execution_count": 3,
   "metadata": {},
   "outputs": [],
   "source": [
    "train_bkg, test_bkg = train_test_split(background, test_size=0.4, random_state=2) #splitting bkg into train and test\n",
    "train_signal, test_signal = train_test_split(signal_all, test_size=0.4, random_state=2) #splitting signal into train and test\n",
    "\n",
    "train_y = len(train_bkg) * [0] + len(train_signal) * [1] #training set\n",
    "test_y = len(test_bkg) * [0] + len(test_signal) * [1] #test set\n",
    "\n",
    "train_x = pd.concat([train_bkg, train_signal], ignore_index=True) #training data\n",
    "test_x = pd.concat([test_bkg, test_signal], ignore_index=True) #testing data"
   ]
  },
  {
   "cell_type": "code",
   "execution_count": 4,
   "metadata": {},
   "outputs": [],
   "source": [
    "train_weight = train_x[\"weight\"].to_numpy()\n",
    "test_weight = test_x[\"weight\"].to_numpy()\n",
    "train_x.drop([\"weight\"], axis=1, inplace=True)\n",
    "test_x.drop([\"weight\"], axis=1, inplace=True)"
   ]
  },
  {
   "cell_type": "code",
   "execution_count": 5,
   "metadata": {},
   "outputs": [],
   "source": [
    "from sklearn.preprocessing import StandardScaler\n",
    "\n",
    "scaler = StandardScaler()\n",
    "train_x_before = train_x.drop(columns=[\"mass\"])\n",
    "train_x = scaler.fit_transform(train_x.drop(columns=[\"mass\"]))\n",
    "test_x = scaler.transform(test_x.drop(columns=[\"mass\"]))"
   ]
  },
  {
   "cell_type": "code",
   "execution_count": 6,
   "metadata": {},
   "outputs": [],
   "source": [
    "test_signal_weight_org = test_signal[\"weight\"].to_numpy()\n",
    "test_signal_weight = []\n",
    "for i in test_signal_weight_org: #Setting the weight of the test_signal to 1\n",
    "    i = 1\n",
    "    test_signal_weight.append(i)\n",
    "    \n",
    "train_signal_weight_org = train_signal[\"weight\"].to_numpy()\n",
    "train_signal_weight = []\n",
    "for i in train_signal_weight_org: #Setting the weight of the train_signal to 1\n",
    "    i = 1\n",
    "    train_signal_weight.append(i)"
   ]
  },
  {
   "cell_type": "code",
   "execution_count": 7,
   "metadata": {},
   "outputs": [],
   "source": [
    "test_bkg_weight = test_bkg[\"weight\"].to_numpy()\n",
    "positive_testbkg_weight = []\n",
    "for i in test_bkg_weight:\n",
    "    if i > 0:\n",
    "        positive_testbkg_weight.append(i) #Only taking postive testing bkg weights\n",
    "    else:\n",
    "        i = 0\n",
    "        positive_testbkg_weight.append(i) #Setting negative weight to 0\n",
    "        \n",
    "train_bkg_weight = train_bkg[\"weight\"].to_numpy()\n",
    "positive_trainbkg_weight = []\n",
    "for i in train_bkg_weight:\n",
    "    if i > 0:\n",
    "        positive_trainbkg_weight.append(i) #Only taking postive training bkg weights\n",
    "    else:\n",
    "        i = 0\n",
    "        positive_trainbkg_weight.append(i) #Setting negative weight to 0"
   ]
  },
  {
   "cell_type": "code",
   "execution_count": 8,
   "metadata": {},
   "outputs": [],
   "source": [
    "def test_BDT(n, d, l):\n",
    "    BDT_clf = AdaBoostClassifier(DecisionTreeClassifier(max_depth=d), algorithm=\"SAMME\", \n",
    "                                 n_estimators=n, learning_rate=l).fit(train_x, train_y)\n",
    "    \n",
    "    bkg_train = BDT_clf.decision_function(train_bkg.drop(columns=[\"weight\"]))\n",
    "    signal_train = BDT_clf.decision_function(train_signal.drop(columns=[\"weight\", \"mass\"]))\n",
    "    bkg = BDT_clf.decision_function(test_bkg.drop(columns=[\"weight\"]))\n",
    "    signal = BDT_clf.decision_function(test_signal.drop(columns=[\"weight\", \"mass\"]))\n",
    "    \n",
    "    c_max = 1\n",
    "    c_min = -1\n",
    "    \n",
    "    plt.hist(bkg,bins=20,range=(c_min,c_max), histtype='step', fill=False, density=True, color ='dodgerblue',\n",
    "             label=\"Testing Bkg\")\n",
    "    plt.hist(signal,bins=20,range=(c_min,c_max), histtype='step', fill=False, density=True, color ='orange',\n",
    "             label=\"Testing Signal\")\n",
    "    plt.hist(bkg_train,bins=20,range=(c_min,c_max), histtype='step', fill=False, density=True, color ='limegreen', \n",
    "             label=\"Training Bkg\")\n",
    "    plt.hist(signal_train,bins=20,range=(c_min,c_max), histtype='step', fill=False, density=True, color ='m', \n",
    "             label=\"Training Signal\")\n",
    "    \n",
    "    filename = \"n={} d={} l={}\".format(n,d,l)\n",
    "    plt.xlabel('BDT output')\n",
    "    plt.ylabel('Density')\n",
    "    plt.legend(loc=\"upper right\")\n",
    "    plt.title(filename)\n",
    "    plt.savefig(\"Figures/{}.png\".format(filename), dpi=300)\n",
    "    \n",
    "    sighist, _ = np.histogram(signal, bins=bins, weights=test_signal_weight) #test signal weight\n",
    "    bkghist, _ = np.histogram(bkg, bins=bins, weights=positive_testbkg_weight) #positive test bkg weight\n",
    "    sighist_train, _ = np.histogram(signal_train, bins=bins, weights=train_signal_weight) #train signal weight\n",
    "    bkghist_train, _ = np.histogram(bkg_train, bins=bins, weights=positive_trainbkg_weight) #positive train bkg weight\n",
    "    \n",
    "    portion = 0.4\n",
    "    logsig = True\n",
    "    \n",
    "    backgrounds_content = np.array(bkghist)/portion\n",
    "    signal_content = np.array(sighist)/portion\n",
    "    backgrounds_content_train = np.array(bkghist_train)/portion\n",
    "    signal_content_train = np.array(sighist_train)/portion\n",
    "    \n",
    "    total = 0\n",
    "    \n",
    "    if not logsig:\n",
    "        testing_sig = sum(signal_content)/math.sqrt(sum(backgrounds_content))\n",
    "        training_sig = sum(signal_content_train)/math.sqrt(sum(backgrounds_content_train))\n",
    "        return testing_sig, training_sig\n",
    "\n",
    "    for each_b, each_s in zip(backgrounds_content, signal_content):\n",
    "        if each_b > 0 and each_s > 0:\n",
    "            total += 2 * ((each_s + each_b) * math.log(1 + each_s/each_b) - each_s)\n",
    "    test_signif = \"Testing significance for {} is:\".format(filename), math.sqrt(total)\n",
    "\n",
    "    for each_b, each_s in zip(backgrounds_content_train, signal_content_train):\n",
    "        if each_b > 0 and each_s > 0:\n",
    "            total += 2 * ((each_s + each_b) * math.log(1 + each_s/each_b) - each_s)\n",
    "    train_signif = \"Training significance for {} is:\".format(filename), math.sqrt(total)    \n",
    "\n",
    "    return [test_signif, train_signif]"
   ]
  },
  {
   "cell_type": "code",
   "execution_count": 13,
   "metadata": {},
   "outputs": [
    {
     "data": {
      "image/png": "[encoded data removed]",
      "text/plain": [
       "<Figure size 432x288 with 1 Axes>"
      ]
     },
     "metadata": {
      "needs_background": "light"
     },
     "output_type": "display_data"
    }
   ],
   "source": [
    "#l_testing = [0.1, 0.3, 0.5, 1.5] \n",
    "\n",
    "n_testing = 3000\n",
    "d_testing = 2\n",
    "l_testing = [1.5]\n",
    "    \n",
    "bins = np.linspace(-1,1,20)\n",
    "\n",
    "for i in l_testing:\n",
    "    plt.figure()\n",
    "    signif = test_BDT(n_testing, d_testing, i) \n",
    "    \n",
    "    test_sig_final = signif[0]\n",
    "    train_sig_final = signif[1]\n",
    "    \n",
    "    with open(\"Sig.txt\", \"a\") as output:\n",
    "        output.write(str(test_sig_final) + '\\n')\n",
    "        output.write(str(train_sig_final) + '\\n')"
   ]
  },
  {
   "cell_type": "code",
   "execution_count": null,
   "metadata": {},
   "outputs": [],
   "source": []
  }
 ],
 "metadata": {
  "kernelspec": {
   "display_name": "Python 3",
   "language": "python",
   "name": "python3"
  },
  "language_info": {
   "codemirror_mode": {
    "name": "ipython",
    "version": 3
   },
   "file_extension": ".py",
   "mimetype": "text/x-python",
   "name": "python",
   "nbconvert_exporter": "python",
   "pygments_lexer": "ipython3",
   "version": "3.7.6"
  }
 },
 "nbformat": 4,
 "nbformat_minor": 4
}
