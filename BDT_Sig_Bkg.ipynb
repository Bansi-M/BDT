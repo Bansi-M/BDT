{
 "cells": [
  {
   "cell_type": "markdown",
   "metadata": {},
   "source": [
    "# BDT - Background and Signal distribution"
   ]
  },
  {
   "cell_type": "code",
   "execution_count": 44,
   "metadata": {},
   "outputs": [],
   "source": [
    "import numpy as np\n",
    "import matplotlib.pyplot as plt\n",
    "from sklearn.datasets import load_iris\n",
    "from sklearn.model_selection import cross_val_score\n",
    "from sklearn.model_selection import train_test_split\n",
    "from sklearn.ensemble import AdaBoostClassifier\n",
    "from sklearn.metrics import confusion_matrix\n",
    "from sklearn.tree import DecisionTreeClassifier\n",
    "import seaborn as sns\n",
    "import pandas as pd\n",
    "\n",
    "signal = pd.read_csv('.//data//500.csv', index_col=0)\n",
    "background = pd.read_csv('.//data//background.csv', index_col=0)\n",
    "\n",
    "signal.drop([\"nTags\", \"MCChannelNumber\", \"mVHres\"], axis=1, inplace=True)\n",
    "background.drop([\"nTags\", \"MCChannelNumber\", \"mVHres\"], axis=1, inplace=True)"
   ]
  },
  {
   "cell_type": "code",
   "execution_count": 45,
   "metadata": {},
   "outputs": [
    {
     "name": "stdout",
     "output_type": "stream",
     "text": [
      "Data has been split into test and train samples\n",
      "\tN(train) =  376022\n",
      "\tN(test)  =  250682\n"
     ]
    }
   ],
   "source": [
    "train_bkg, test_bkg = train_test_split(background, test_size=0.4, random_state=2) #splitting bkg into train and test\n",
    "train_signal, test_signal = train_test_split(signal, test_size=0.4, random_state=2) #splitting signal into train and test\n",
    "\n",
    "train_y = len(train_bkg) * [0] + len(train_signal) * [1] #training set\n",
    "test_y = len(test_bkg) * [0] + len(test_signal) * [1] #test set\n",
    "\n",
    "train_x = pd.concat([train_bkg, train_signal], ignore_index=True) #training data\n",
    "test_x = pd.concat([test_bkg, test_signal], ignore_index=True) #testing data\n",
    "\n",
    "train_x.drop([\"weight\"], axis=1, inplace=True)\n",
    "test_x.drop([\"weight\"], axis=1, inplace=True)\n",
    "\n",
    "print(\"Data has been split into test and train samples\")\n",
    "print(\"\\tN(train) = \", len(train_x))\n",
    "print(\"\\tN(test)  = \", len(test_x))\n"
   ]
  },
  {
   "cell_type": "code",
   "execution_count": 46,
   "metadata": {},
   "outputs": [
    {
     "name": "stdout",
     "output_type": "stream",
     "text": [
      "\u001b[1mFit the decision tree\u001b[0m\n",
      "... now compute the decision tree score\n",
      "\n",
      "Decision Tree Classifier Score is:\n",
      "\tTrain Score =  0.776010446197297  (This measure of performance is biased)\n",
      "\tTest Score  = 0.7768\n",
      "\tNumber of mis-classified test data = 55964.0\n"
     ]
    }
   ],
   "source": [
    "#Variables to test: max_depth, n_estimators and learning rate\n",
    "\n",
    "print(\"\\033[1mFit the decision tree\\033[0m\")\n",
    "BDT_clf = AdaBoostClassifier(DecisionTreeClassifier(max_depth=1), algorithm=\"SAMME\", \n",
    "                             n_estimators=100, learning_rate=2).fit(train_x, train_y)\n",
    "\n",
    "print(\"... now compute the decision tree score\")\n",
    "train_score = BDT_clf.score(train_x, train_y)\n",
    "test_score  = BDT_clf.score(test_x, test_y)\n",
    "\n",
    "print(\"\\nDecision Tree Classifier Score is:\")\n",
    "print(\"\\tTrain Score = \", train_score, \" (This measure of performance is biased)\")\n",
    "print(\"\\tTest Score  = {:5.4f}\".format(test_score))\n",
    "print(\"\\tNumber of mis-classified test data = {:2.1f}\".format((1-test_score)*len(test_x)))"
   ]
  },
  {
   "cell_type": "code",
   "execution_count": 47,
   "metadata": {},
   "outputs": [
    {
     "name": "stdout",
     "output_type": "stream",
     "text": [
      "Output of Decision Function is: [-0.0168638   0.00226843 -0.03692952 ...  0.00226843  0.00226843\n",
      "  0.00226843]\n"
     ]
    }
   ],
   "source": [
    "Decision_Function = BDT_clf.decision_function(test_x)\n",
    "print('Output of Decision Function is:', Decision_Function) "
   ]
  },
  {
   "cell_type": "code",
   "execution_count": 48,
   "metadata": {},
   "outputs": [
    {
     "data": {
      "text/plain": [
       "(array([     0.,      0.,      0.,      0., 193220.,  57462.,      0.,\n",
       "             0.,      0.,      0.]),\n",
       " array([-1. , -0.8, -0.6, -0.4, -0.2,  0. ,  0.2,  0.4,  0.6,  0.8,  1. ]),\n",
       " <a list of 10 Patch objects>)"
      ]
     },
     "execution_count": 48,
     "metadata": {},
     "output_type": "execute_result"
    },
    {
     "data": {
      "image/png": "[encoded data removed]",
      "text/plain": [
       "<Figure size 432x288 with 1 Axes>"
      ]
     },
     "metadata": {
      "needs_background": "light"
     },
     "output_type": "display_data"
    }
   ],
   "source": [
    "pred_train = BDT_clf.decision_function(train_x)\n",
    "pred_test = BDT_clf.decision_function(test_x)\n",
    "\n",
    "c_max = 1\n",
    "c_min = -1\n",
    "\n",
    "plt.figure()\n",
    "plt.hist(pred_train,bins=10,range=(c_min,c_max))\n",
    "plt.hist(pred_test,bins=10,range=(c_min,c_max))"
   ]
  }
 ],
 "metadata": {
  "kernelspec": {
   "display_name": "Python 3",
   "language": "python",
   "name": "python3"
  },
  "language_info": {
   "codemirror_mode": {
    "name": "ipython",
    "version": 3
   },
   "file_extension": ".py",
   "mimetype": "text/x-python",
   "name": "python",
   "nbconvert_exporter": "python",
   "pygments_lexer": "ipython3",
   "version": "3.7.6"
  }
 },
 "nbformat": 4,
 "nbformat_minor": 4
}
