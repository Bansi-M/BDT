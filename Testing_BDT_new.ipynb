{
 "cells": [
  {
   "cell_type": "markdown",
   "metadata": {},
   "source": [
    "# BDT - Background and Signal distribution"
   ]
  },
  {
   "cell_type": "code",
   "execution_count": 4,
   "metadata": {},
   "outputs": [
    {
     "name": "stderr",
     "output_type": "stream",
     "text": [
      "/opt/jupyterhub/anaconda3/lib/python3.7/site-packages/pandas/core/frame.py:3997: SettingWithCopyWarning: \n",
      "A value is trying to be set on a copy of a slice from a DataFrame\n",
      "\n",
      "See the caveats in the documentation: https://pandas.pydata.org/pandas-docs/stable/user_guide/indexing.html#returning-a-view-versus-a-copy\n",
      "  errors=errors,\n"
     ]
    }
   ],
   "source": [
    "import numpy as np\n",
    "import matplotlib.pyplot as plt\n",
    "from sklearn.datasets import load_iris\n",
    "from sklearn.model_selection import cross_val_score\n",
    "from sklearn.model_selection import train_test_split\n",
    "from sklearn.ensemble import AdaBoostClassifier\n",
    "from sklearn.metrics import confusion_matrix\n",
    "from sklearn.tree import DecisionTreeClassifier\n",
    "import seaborn as sns\n",
    "import pandas as pd\n",
    "import math\n",
    "\n",
    "signal = pd.read_csv('.//data//500.csv', index_col=0)\n",
    "background = pd.read_csv('.//data//background.csv', index_col=0)\n",
    "\n",
    "signal.drop([\"nTags\", \"MCChannelNumber\", \"mVHres\"], axis=1, inplace=True)\n",
    "background.drop([\"nTags\", \"MCChannelNumber\", \"mVHres\"], axis=1, inplace=True)\n",
    "\n",
    "train_bkg, test_bkg = train_test_split(background, test_size=0.4, random_state=2) #splitting bkg into train and test\n",
    "train_signal, test_signal = train_test_split(signal, test_size=0.4, random_state=2) #splitting signal into train and test\n",
    "\n",
    "train_y = len(train_bkg) * [0] + len(train_signal) * [1] #training set\n",
    "test_y = len(test_bkg) * [0] + len(test_signal) * [1] #test set\n",
    "\n",
    "train_x = pd.concat([train_bkg, train_signal], ignore_index=True) #training data\n",
    "test_x = pd.concat([test_bkg, test_signal], ignore_index=True) #testing data\n",
    "\n",
    "train_weight = train_x[\"weight\"].to_numpy()\n",
    "test_weight = test_x[\"weight\"].to_numpy()\n",
    "train_x.drop([\"weight\"], axis=1, inplace=True)\n",
    "test_x.drop([\"weight\"], axis=1, inplace=True)\n",
    "test_bkg_weight = test_bkg[\"weight\"].to_numpy()\n",
    "test_signal_weight = test_signal[\"weight\"].to_numpy()\n",
    "test_bkg.drop([\"weight\"], axis=1, inplace=True)\n",
    "test_signal.drop([\"weight\"], axis=1, inplace=True)"
   ]
  },
  {
   "cell_type": "code",
   "execution_count": 5,
   "metadata": {},
   "outputs": [],
   "source": [
    "def test_BDT(n, d, l):\n",
    "    BDT_clf = AdaBoostClassifier(DecisionTreeClassifier(max_depth=d), algorithm=\"SAMME\", \n",
    "                                 n_estimators=n, learning_rate=l).fit(train_x, train_y)\n",
    "    \n",
    "    bkg = BDT_clf.decision_function(test_bkg)\n",
    "    signal = BDT_clf.decision_function(test_signal)\n",
    "    \n",
    "    c_max = 1\n",
    "    c_min = -1\n",
    "    \n",
    "    plt.hist(bkg,bins=10,range=(c_min,c_max), histtype='step', fill=False, density=True)\n",
    "    plt.hist(signal,bins=10,range=(c_min,c_max), histtype='step', fill=False, density=True)\n",
    "    \n",
    "    filename = \"n={} d={} l={}\".format(n,d,l)\n",
    "    plt.xlabel('BDT output')\n",
    "    plt.ylabel('Density')\n",
    "    plt.title(filename)\n",
    "    plt.savefig(\"Figures/{}.png\".format(filename))\n",
    "    \n",
    "    sighist, _ = np.histogram(signal, bins=bins, weights=test_signal_weight)\n",
    "    bkghist, _ = np.histogram(bkg, bins=bins, weights=test_bkg_weight)\n",
    "    portion = 0.4\n",
    "    logsig = True\n",
    "    \n",
    "    backgrounds_content = np.array(bkghist)/portion\n",
    "    signal_content = np.array(sighist)/portion\n",
    "    total = 0\n",
    "    \n",
    "    if not logsig:\n",
    "        return sum(signal_content)/math.sqrt(sum(backgrounds_content))\n",
    "\n",
    "    for each_b, each_s in zip(backgrounds_content, signal_content):\n",
    "        if each_b > 0 and each_s > 0:\n",
    "            total += 2 * ((each_s + each_b) * math.log(1 + each_s/each_b) - each_s)\n",
    "    return math.sqrt(total)"
   ]
  },
  {
   "cell_type": "code",
   "execution_count": 20,
   "metadata": {},
   "outputs": [],
   "source": [
    "#def significance_binned(backgrounds, signal, logsig=True, portion=1):\n",
    "#    backgrounds_content = np.array(backgrounds)/portion\n",
    "#    signal_content = np.array(signal)/portion\n",
    "#    total = 0\n",
    "\n",
    "#    if not logsig:\n",
    "#        return sum(signal_content)/math.sqrt(sum(backgrounds_content))\n",
    "\n",
    "#    for each_b, each_s in zip(backgrounds_content, signal_content):\n",
    " #       if each_b > 0 and each_s > 0:\n",
    "#            total += 2 * ((each_s + each_b) * math.log(1 + each_s/each_b) - each_s)\n",
    "#    return math.sqrt(total)"
   ]
  },
  {
   "cell_type": "code",
   "execution_count": null,
   "metadata": {},
   "outputs": [],
   "source": [
    "n_testing = [600, 900]\n",
    "d_testing = 5\n",
    "l_testing = 1 # A learning_rate above 2 does not work. Error: ValueError: Input contains NaN,\n",
    "              # infinity or a value too large for dtype('float64').\n",
    "    \n",
    "bins = np.linspace(-1,1,20)\n",
    "\n",
    "for i in n_testing:\n",
    "    plt.figure()\n",
    "   # test_BDT(i, d_testing, l_testing)\n",
    "   # print(\"Significance for n={}, d=3, l=1 is:\".format(i), significance_binned(bkghist, sighist, portion=0.4))\n",
    "    signif = \"Significance for n={}, d=5, l=1 is:\".format(i), test_BDT(i, d_testing, l_testing) \n",
    "    \n",
    "    with open(\"Sig.txt\", \"a\") as output:\n",
    "        output.write(str(signif) + '\\n')"
   ]
  },
  {
   "cell_type": "code",
   "execution_count": null,
   "metadata": {},
   "outputs": [],
   "source": []
  }
 ],
 "metadata": {
  "kernelspec": {
   "display_name": "Python 3",
   "language": "python",
   "name": "python3"
  }
 },
 "nbformat": 4,
 "nbformat_minor": 4
}
