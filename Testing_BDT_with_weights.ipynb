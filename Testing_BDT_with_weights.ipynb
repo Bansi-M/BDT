{
 "cells": [
  {
   "cell_type": "markdown",
   "metadata": {},
   "source": [
    "# BDT - Background and Signal distribution"
   ]
  },
  {
   "cell_type": "markdown",
   "metadata": {},
   "source": [
    "#### Using only the positive weights for the background and training/testing with all masses with their weight = 1"
   ]
  },
  {
   "cell_type": "code",
   "execution_count": 1,
   "metadata": {},
   "outputs": [],
   "source": [
    "import numpy as np\n",
    "import matplotlib.pyplot as plt\n",
    "from sklearn.model_selection import train_test_split\n",
    "from sklearn.ensemble import AdaBoostClassifier\n",
    "from sklearn.tree import DecisionTreeClassifier\n",
    "import seaborn as sns\n",
    "import pandas as pd\n",
    "import math"
   ]
  },
  {
   "cell_type": "code",
   "execution_count": 2,
   "metadata": {},
   "outputs": [],
   "source": [
    "signal_all = pd.DataFrame()\n",
    "signal_mass = [300, 420, 500] # [300, 420, 440, 460, 500, 600, 700, 800, 900, 1000, 1200, 1400, 1600, 2000]\n",
    "for each in signal_mass:\n",
    "    df_temp = pd.read_csv(str(each) + \".csv\", index_col=0)\n",
    "    df_temp[\"mass\"] = each\n",
    "    df_temp.drop(columns=[\"nTags\", \"MCChannelNumber\", \"mVHres\"], inplace=True)\n",
    "    signal_all = pd.concat([df_temp, signal_all], ignore_index=True)\n",
    "\n",
    "background = pd.read_csv(\"background.csv\", index_col=0)\n",
    "background.drop([\"nTags\", \"MCChannelNumber\", \"mVHres\"], axis=1, inplace=True)"
   ]
  },
  {
   "cell_type": "code",
   "execution_count": 3,
   "metadata": {},
   "outputs": [],
   "source": [
    "train_bkg, test_bkg = train_test_split(background, test_size=0.4, random_state=2) #splitting bkg into train and test\n",
    "train_signal, test_signal = train_test_split(signal_all, test_size=0.4, random_state=2) #splitting signal into train and test\n",
    "\n",
    "train_y = len(train_bkg) * [0] + len(train_signal) * [1] #training set\n",
    "test_y = len(test_bkg) * [0] + len(test_signal) * [1] #test set\n",
    "\n",
    "train_x = pd.concat([train_bkg, train_signal], ignore_index=True) #training data\n",
    "test_x = pd.concat([test_bkg, test_signal], ignore_index=True) #testing data"
   ]
  },
  {
   "cell_type": "code",
   "execution_count": 4,
   "metadata": {},
   "outputs": [],
   "source": [
    "train_weight = train_x[\"weight\"].to_numpy()\n",
    "test_weight = test_x[\"weight\"].to_numpy()\n",
    "train_x.drop([\"weight\"], axis=1, inplace=True)\n",
    "test_x.drop([\"weight\"], axis=1, inplace=True)"
   ]
  },
  {
   "cell_type": "code",
   "execution_count": 5,
   "metadata": {},
   "outputs": [],
   "source": [
    "test_signal_weight_org = test_signal[\"weight\"].to_numpy()\n",
    "test_signal_weight = []\n",
    "for i in test_signal_weight_org: #Setting the weight of the test_signal to 1\n",
    "    i = 1\n",
    "    test_signal_weight.append(i)\n",
    "    \n",
    "train_signal_weight_org = train_signal[\"weight\"].to_numpy()\n",
    "train_signal_weight = []\n",
    "for i in train_signal_weight_org: #Setting the weight of the train_signal to 1\n",
    "    i = 1\n",
    "    train_signal_weight.append(i)"
   ]
  },
  {
   "cell_type": "code",
   "execution_count": 6,
   "metadata": {},
   "outputs": [],
   "source": [
    "test_bkg_weight = test_bkg[\"weight\"].to_numpy()\n",
    "positive_testbkg_weight = []\n",
    "for i in test_bkg_weight:\n",
    "    if i > 0:\n",
    "        positive_testbkg_weight.append(i) #Only taking postive testing bkg weights\n",
    "    else:\n",
    "        i = 0\n",
    "        positive_testbkg_weight.append(i) #Setting negative weight to 0\n",
    "        \n",
    "train_bkg_weight = train_bkg[\"weight\"].to_numpy()\n",
    "positive_trainbkg_weight = []\n",
    "for i in train_bkg_weight:\n",
    "    if i > 0:\n",
    "        positive_trainbkg_weight.append(i) #Only taking postive training bkg weights\n",
    "    else:\n",
    "        i = 0\n",
    "        positive_trainbkg_weight.append(i) #Setting negative weight to 0"
   ]
  },
  {
   "cell_type": "code",
   "execution_count": 7,
   "metadata": {},
   "outputs": [],
   "source": [
    "def test_BDT(n, d, l):\n",
    "    BDT_clf = AdaBoostClassifier(DecisionTreeClassifier(max_depth=d), algorithm=\"SAMME\", \n",
    "                                 n_estimators=n, learning_rate=l).fit(train_x, train_y)\n",
    "    \n",
    "    bkg_train = BDT_clf.decision_function(train_bkg)\n",
    "    signal_train = BDT_clf.decision_function(train_signal)\n",
    "    bkg = BDT_clf.decision_function(test_bkg)\n",
    "    signal = BDT_clf.decision_function(test_signal)\n",
    "    \n",
    "    c_max = 1\n",
    "    c_min = -1\n",
    "    \n",
    "    plt.hist(bkg,bins=20,range=(c_min,c_max), histtype='step', fill=False, density=True, color ='dodgerblue',\n",
    "             label=\"Testing Bkg\")\n",
    "    plt.hist(signal,bins=20,range=(c_min,c_max), histtype='step', fill=False, density=True, color ='orange',\n",
    "             label=\"Testing Signal\")\n",
    "    plt.hist(bkg_train,bins=20,range=(c_min,c_max), histtype='step', fill=False, density=True, color ='limegreen', \n",
    "             label=\"Training Bkg\")\n",
    "    plt.hist(signal_train,bins=20,range=(c_min,c_max), histtype='step', fill=False, density=True, color ='m', \n",
    "             label=\"Training Signal\")\n",
    "    \n",
    "    filename = \"n={} d={} l={}\".format(n,d,l)\n",
    "    plt.xlabel('BDT output')\n",
    "    plt.ylabel('Density')\n",
    "    plt.legend(loc=\"upper right\")\n",
    "    plt.title(filename)\n",
    "    plt.savefig(\"Figures/{}.png\".format(filename), dpi=300)\n",
    "    \n",
    "    sighist, _ = np.histogram(signal, bins=bins, weights=test_signal_weight) #test signal weight\n",
    "    bkghist, _ = np.histogram(bkg, bins=bins, weights=positive_testbkg_weight) #positive test bkg weight\n",
    "    sighist_train, _ = np.histogram(signal_train, bins=bins, weights=train_signal_weight) #train signal weight\n",
    "    bkghist_train, _ = np.histogram(bkg_train, bins=bins, weights=positive_trainbkg_weight) #positive train bkg weight\n",
    "    \n",
    "    portion = 0.4\n",
    "    logsig = True\n",
    "    \n",
    "    backgrounds_content = np.array(bkghist)/portion\n",
    "    signal_content = np.array(sighist)/portion\n",
    "    backgrounds_content_train = np.array(bkghist_train)/portion\n",
    "    signal_content_train = np.array(sighist_train)/portion\n",
    "    \n",
    "    total = 0\n",
    "    \n",
    "    if not logsig:\n",
    "        testing_sig = sum(signal_content)/math.sqrt(sum(backgrounds_content))\n",
    "        training_sig = sum(signal_content_train)/math.sqrt(sum(backgrounds_content_train))\n",
    "        return testing_sig, training_sig\n",
    "\n",
    "    for each_b, each_s in zip(backgrounds_content, signal_content):\n",
    "        if each_b > 0 and each_s > 0:\n",
    "            total += 2 * ((each_s + each_b) * math.log(1 + each_s/each_b) - each_s)\n",
    "    test_signif = \"Testing significance for {} is:\".format(filename), math.sqrt(total)\n",
    "\n",
    "    for each_b, each_s in zip(backgrounds_content_train, signal_content_train):\n",
    "        if each_b > 0 and each_s > 0:\n",
    "            total += 2 * ((each_s + each_b) * math.log(1 + each_s/each_b) - each_s)\n",
    "    train_signif = \"Training significance for {} is:\".format(filename), math.sqrt(total)    \n",
    "\n",
    "    return [test_signif, train_signif]"
   ]
  },
  {
   "cell_type": "code",
   "execution_count": 8,
   "metadata": {},
   "outputs": [
    {
     "ename": "ValueError",
     "evalue": "Input contains NaN, infinity or a value too large for dtype('float64').",
     "output_type": "error",
     "traceback": [
      "\u001b[0;31m---------------------------------------------------------------------------\u001b[0m",
      "\u001b[0;31mValueError\u001b[0m                                Traceback (most recent call last)",
      "\u001b[0;32m<ipython-input-8-71ab5eb23797>\u001b[0m in \u001b[0;36m<module>\u001b[0;34m\u001b[0m\n\u001b[1;32m      9\u001b[0m \u001b[0;32mfor\u001b[0m \u001b[0mi\u001b[0m \u001b[0;32min\u001b[0m \u001b[0ml_testing\u001b[0m\u001b[0;34m:\u001b[0m\u001b[0;34m\u001b[0m\u001b[0;34m\u001b[0m\u001b[0m\n\u001b[1;32m     10\u001b[0m     \u001b[0mplt\u001b[0m\u001b[0;34m.\u001b[0m\u001b[0mfigure\u001b[0m\u001b[0;34m(\u001b[0m\u001b[0;34m)\u001b[0m\u001b[0;34m\u001b[0m\u001b[0;34m\u001b[0m\u001b[0m\n\u001b[0;32m---> 11\u001b[0;31m     \u001b[0msignif\u001b[0m \u001b[0;34m=\u001b[0m \u001b[0mtest_BDT\u001b[0m\u001b[0;34m(\u001b[0m\u001b[0mn_testing\u001b[0m\u001b[0;34m,\u001b[0m \u001b[0md_testing\u001b[0m\u001b[0;34m,\u001b[0m \u001b[0mi\u001b[0m\u001b[0;34m)\u001b[0m\u001b[0;34m\u001b[0m\u001b[0;34m\u001b[0m\u001b[0m\n\u001b[0m\u001b[1;32m     12\u001b[0m \u001b[0;34m\u001b[0m\u001b[0m\n\u001b[1;32m     13\u001b[0m     \u001b[0mtest_sig_final\u001b[0m \u001b[0;34m=\u001b[0m \u001b[0msignif\u001b[0m\u001b[0;34m[\u001b[0m\u001b[0;36m0\u001b[0m\u001b[0;34m]\u001b[0m\u001b[0;34m\u001b[0m\u001b[0;34m\u001b[0m\u001b[0m\n",
      "\u001b[0;32m<ipython-input-7-9b5ef1236d65>\u001b[0m in \u001b[0;36mtest_BDT\u001b[0;34m(n, d, l)\u001b[0m\n\u001b[1;32m      1\u001b[0m \u001b[0;32mdef\u001b[0m \u001b[0mtest_BDT\u001b[0m\u001b[0;34m(\u001b[0m\u001b[0mn\u001b[0m\u001b[0;34m,\u001b[0m \u001b[0md\u001b[0m\u001b[0;34m,\u001b[0m \u001b[0ml\u001b[0m\u001b[0;34m)\u001b[0m\u001b[0;34m:\u001b[0m\u001b[0;34m\u001b[0m\u001b[0;34m\u001b[0m\u001b[0m\n\u001b[1;32m      2\u001b[0m     BDT_clf = AdaBoostClassifier(DecisionTreeClassifier(max_depth=d), algorithm=\"SAMME\", \n\u001b[0;32m----> 3\u001b[0;31m                                  n_estimators=n, learning_rate=l).fit(train_x, train_y)\n\u001b[0m\u001b[1;32m      4\u001b[0m \u001b[0;34m\u001b[0m\u001b[0m\n\u001b[1;32m      5\u001b[0m     \u001b[0mbkg_train\u001b[0m \u001b[0;34m=\u001b[0m \u001b[0mBDT_clf\u001b[0m\u001b[0;34m.\u001b[0m\u001b[0mdecision_function\u001b[0m\u001b[0;34m(\u001b[0m\u001b[0mtrain_bkg\u001b[0m\u001b[0;34m)\u001b[0m\u001b[0;34m\u001b[0m\u001b[0;34m\u001b[0m\u001b[0m\n",
      "\u001b[0;32m/opt/jupyterhub/anaconda3/lib/python3.7/site-packages/sklearn/ensemble/_weight_boosting.py\u001b[0m in \u001b[0;36mfit\u001b[0;34m(self, X, y, sample_weight)\u001b[0m\n\u001b[1;32m    436\u001b[0m \u001b[0;34m\u001b[0m\u001b[0m\n\u001b[1;32m    437\u001b[0m         \u001b[0;31m# Fit\u001b[0m\u001b[0;34m\u001b[0m\u001b[0;34m\u001b[0m\u001b[0;34m\u001b[0m\u001b[0m\n\u001b[0;32m--> 438\u001b[0;31m         \u001b[0;32mreturn\u001b[0m \u001b[0msuper\u001b[0m\u001b[0;34m(\u001b[0m\u001b[0;34m)\u001b[0m\u001b[0;34m.\u001b[0m\u001b[0mfit\u001b[0m\u001b[0;34m(\u001b[0m\u001b[0mX\u001b[0m\u001b[0;34m,\u001b[0m \u001b[0my\u001b[0m\u001b[0;34m,\u001b[0m \u001b[0msample_weight\u001b[0m\u001b[0;34m)\u001b[0m\u001b[0;34m\u001b[0m\u001b[0;34m\u001b[0m\u001b[0m\n\u001b[0m\u001b[1;32m    439\u001b[0m \u001b[0;34m\u001b[0m\u001b[0m\n\u001b[1;32m    440\u001b[0m     \u001b[0;32mdef\u001b[0m \u001b[0m_validate_estimator\u001b[0m\u001b[0;34m(\u001b[0m\u001b[0mself\u001b[0m\u001b[0;34m)\u001b[0m\u001b[0;34m:\u001b[0m\u001b[0;34m\u001b[0m\u001b[0;34m\u001b[0m\u001b[0m\n",
      "\u001b[0;32m/opt/jupyterhub/anaconda3/lib/python3.7/site-packages/sklearn/ensemble/_weight_boosting.py\u001b[0m in \u001b[0;36mfit\u001b[0;34m(self, X, y, sample_weight)\u001b[0m\n\u001b[1;32m    117\u001b[0m             \u001b[0;32mraise\u001b[0m \u001b[0mValueError\u001b[0m\u001b[0;34m(\u001b[0m\u001b[0;34m\"learning_rate must be greater than zero\"\u001b[0m\u001b[0;34m)\u001b[0m\u001b[0;34m\u001b[0m\u001b[0;34m\u001b[0m\u001b[0m\n\u001b[1;32m    118\u001b[0m \u001b[0;34m\u001b[0m\u001b[0m\n\u001b[0;32m--> 119\u001b[0;31m         \u001b[0mX\u001b[0m\u001b[0;34m,\u001b[0m \u001b[0my\u001b[0m \u001b[0;34m=\u001b[0m \u001b[0mself\u001b[0m\u001b[0;34m.\u001b[0m\u001b[0m_validate_data\u001b[0m\u001b[0;34m(\u001b[0m\u001b[0mX\u001b[0m\u001b[0;34m,\u001b[0m \u001b[0my\u001b[0m\u001b[0;34m)\u001b[0m\u001b[0;34m\u001b[0m\u001b[0;34m\u001b[0m\u001b[0m\n\u001b[0m\u001b[1;32m    120\u001b[0m \u001b[0;34m\u001b[0m\u001b[0m\n\u001b[1;32m    121\u001b[0m         \u001b[0msample_weight\u001b[0m \u001b[0;34m=\u001b[0m \u001b[0m_check_sample_weight\u001b[0m\u001b[0;34m(\u001b[0m\u001b[0msample_weight\u001b[0m\u001b[0;34m,\u001b[0m \u001b[0mX\u001b[0m\u001b[0;34m,\u001b[0m \u001b[0mnp\u001b[0m\u001b[0;34m.\u001b[0m\u001b[0mfloat64\u001b[0m\u001b[0;34m)\u001b[0m\u001b[0;34m\u001b[0m\u001b[0;34m\u001b[0m\u001b[0m\n",
      "\u001b[0;32m/opt/jupyterhub/anaconda3/lib/python3.7/site-packages/sklearn/ensemble/_weight_boosting.py\u001b[0m in \u001b[0;36m_validate_data\u001b[0;34m(self, X, y)\u001b[0m\n\u001b[1;32m     89\u001b[0m                             \u001b[0mallow_nd\u001b[0m\u001b[0;34m=\u001b[0m\u001b[0;32mTrue\u001b[0m\u001b[0;34m,\u001b[0m\u001b[0;34m\u001b[0m\u001b[0;34m\u001b[0m\u001b[0m\n\u001b[1;32m     90\u001b[0m                             \u001b[0mdtype\u001b[0m\u001b[0;34m=\u001b[0m\u001b[0;32mNone\u001b[0m\u001b[0;34m,\u001b[0m\u001b[0;34m\u001b[0m\u001b[0;34m\u001b[0m\u001b[0m\n\u001b[0;32m---> 91\u001b[0;31m                             y_numeric=is_regressor(self))\n\u001b[0m\u001b[1;32m     92\u001b[0m         \u001b[0;32mreturn\u001b[0m \u001b[0mret\u001b[0m\u001b[0;34m\u001b[0m\u001b[0;34m\u001b[0m\u001b[0m\n\u001b[1;32m     93\u001b[0m \u001b[0;34m\u001b[0m\u001b[0m\n",
      "\u001b[0;32m/opt/jupyterhub/anaconda3/lib/python3.7/site-packages/sklearn/utils/validation.py\u001b[0m in \u001b[0;36mcheck_X_y\u001b[0;34m(X, y, accept_sparse, accept_large_sparse, dtype, order, copy, force_all_finite, ensure_2d, allow_nd, multi_output, ensure_min_samples, ensure_min_features, y_numeric, warn_on_dtype, estimator)\u001b[0m\n\u001b[1;32m    753\u001b[0m                     \u001b[0mensure_min_features\u001b[0m\u001b[0;34m=\u001b[0m\u001b[0mensure_min_features\u001b[0m\u001b[0;34m,\u001b[0m\u001b[0;34m\u001b[0m\u001b[0;34m\u001b[0m\u001b[0m\n\u001b[1;32m    754\u001b[0m                     \u001b[0mwarn_on_dtype\u001b[0m\u001b[0;34m=\u001b[0m\u001b[0mwarn_on_dtype\u001b[0m\u001b[0;34m,\u001b[0m\u001b[0;34m\u001b[0m\u001b[0;34m\u001b[0m\u001b[0m\n\u001b[0;32m--> 755\u001b[0;31m                     estimator=estimator)\n\u001b[0m\u001b[1;32m    756\u001b[0m     \u001b[0;32mif\u001b[0m \u001b[0mmulti_output\u001b[0m\u001b[0;34m:\u001b[0m\u001b[0;34m\u001b[0m\u001b[0;34m\u001b[0m\u001b[0m\n\u001b[1;32m    757\u001b[0m         y = check_array(y, 'csr', force_all_finite=True, ensure_2d=False,\n",
      "\u001b[0;32m/opt/jupyterhub/anaconda3/lib/python3.7/site-packages/sklearn/utils/validation.py\u001b[0m in \u001b[0;36mcheck_array\u001b[0;34m(array, accept_sparse, accept_large_sparse, dtype, order, copy, force_all_finite, ensure_2d, allow_nd, ensure_min_samples, ensure_min_features, warn_on_dtype, estimator)\u001b[0m\n\u001b[1;32m    576\u001b[0m         \u001b[0;32mif\u001b[0m \u001b[0mforce_all_finite\u001b[0m\u001b[0;34m:\u001b[0m\u001b[0;34m\u001b[0m\u001b[0;34m\u001b[0m\u001b[0m\n\u001b[1;32m    577\u001b[0m             _assert_all_finite(array,\n\u001b[0;32m--> 578\u001b[0;31m                                allow_nan=force_all_finite == 'allow-nan')\n\u001b[0m\u001b[1;32m    579\u001b[0m \u001b[0;34m\u001b[0m\u001b[0m\n\u001b[1;32m    580\u001b[0m     \u001b[0;32mif\u001b[0m \u001b[0mensure_min_samples\u001b[0m \u001b[0;34m>\u001b[0m \u001b[0;36m0\u001b[0m\u001b[0;34m:\u001b[0m\u001b[0;34m\u001b[0m\u001b[0;34m\u001b[0m\u001b[0m\n",
      "\u001b[0;32m/opt/jupyterhub/anaconda3/lib/python3.7/site-packages/sklearn/utils/validation.py\u001b[0m in \u001b[0;36m_assert_all_finite\u001b[0;34m(X, allow_nan, msg_dtype)\u001b[0m\n\u001b[1;32m     58\u001b[0m                     \u001b[0mmsg_err\u001b[0m\u001b[0;34m.\u001b[0m\u001b[0mformat\u001b[0m\u001b[0;34m\u001b[0m\u001b[0;34m\u001b[0m\u001b[0m\n\u001b[1;32m     59\u001b[0m                     (type_err,\n\u001b[0;32m---> 60\u001b[0;31m                      msg_dtype if msg_dtype is not None else X.dtype)\n\u001b[0m\u001b[1;32m     61\u001b[0m             )\n\u001b[1;32m     62\u001b[0m     \u001b[0;31m# for object dtype data, we only check for NaNs (GH-13254)\u001b[0m\u001b[0;34m\u001b[0m\u001b[0;34m\u001b[0m\u001b[0;34m\u001b[0m\u001b[0m\n",
      "\u001b[0;31mValueError\u001b[0m: Input contains NaN, infinity or a value too large for dtype('float64')."
     ]
    },
    {
     "data": {
      "text/plain": [
       "<Figure size 432x288 with 0 Axes>"
      ]
     },
     "metadata": {},
     "output_type": "display_data"
    }
   ],
   "source": [
    "#l_testing = [0.1, 0.3, 0.5, 1.5] \n",
    "\n",
    "n_testing = 50\n",
    "d_testing = 2\n",
    "l_testing = [0.1, 0.3, 0.5, 1.5] \n",
    "    \n",
    "bins = np.linspace(-1,1,20)\n",
    "\n",
    "for i in l_testing:\n",
    "    plt.figure()\n",
    "    signif = test_BDT(n_testing, d_testing, i) \n",
    "    \n",
    "    test_sig_final = signif[0]\n",
    "    train_sig_final = signif[1]\n",
    "    \n",
    "    with open(\"Sig.txt\", \"a\") as output:\n",
    "        output.write(str(test_sig_final) + '\\n')\n",
    "        output.write(str(train_sig_final) + '\\n')"
   ]
  },
  {
   "cell_type": "code",
   "execution_count": null,
   "metadata": {},
   "outputs": [],
   "source": []
  }
 ],
 "metadata": {
  "kernelspec": {
   "display_name": "Python 3",
   "language": "python",
   "name": "python3"
  },
  "language_info": {
   "codemirror_mode": {
    "name": "ipython",
    "version": 3
   },
   "file_extension": ".py",
   "mimetype": "text/x-python",
   "name": "python",
   "nbconvert_exporter": "python",
   "pygments_lexer": "ipython3",
   "version": "3.7.6"
  }
 },
 "nbformat": 4,
 "nbformat_minor": 4
}
