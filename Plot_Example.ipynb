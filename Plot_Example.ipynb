{
 "cells": [
  {
   "cell_type": "markdown",
   "metadata": {},
   "source": [
    "# Signal/Background distribution example"
   ]
  },
  {
   "cell_type": "markdown",
   "metadata": {},
   "source": [
    "Code from https://dbaumgartel.wordpress.com/2014/03/14/machine-learning-examples-scikit-learn-versus-tmva-cern-root/"
   ]
  },
  {
   "cell_type": "code",
   "execution_count": 5,
   "metadata": {},
   "outputs": [],
   "source": [
    "import numpy as np\n",
    "import matplotlib.pyplot as plt\n",
    "from sklearn.datasets import load_iris\n",
    "from sklearn.model_selection import cross_val_score\n",
    "from sklearn.model_selection import train_test_split\n",
    "from sklearn.ensemble import AdaBoostClassifier\n",
    "from sklearn.metrics import confusion_matrix\n",
    "from sklearn.tree import DecisionTreeClassifier\n",
    "import seaborn as sns\n",
    "import pandas as pd\n",
    "\n",
    "signal = pd.read_csv('.//data//500.csv', index_col=0)\n",
    "background = pd.read_csv('.//data//background.csv', index_col=0)\n",
    "\n",
    "signal.drop([\"nTags\", \"MCChannelNumber\", \"mVHres\"], axis=1, inplace=True)\n",
    "background.drop([\"nTags\", \"MCChannelNumber\", \"mVHres\"], axis=1, inplace=True)"
   ]
  },
  {
   "cell_type": "code",
   "execution_count": 6,
   "metadata": {},
   "outputs": [],
   "source": [
    "X = np.concatenate((signal, background))\n",
    "y = np.concatenate((np.ones(signal.shape[0]),\n",
    "                    np.zeros(background.shape[0])))#\n",
    "\n",
    "X_dev,X_eval, y_dev,y_eval = train_test_split(X, y, test_size=0.4, random_state=2)\n",
    "X_train,X_test, y_train,y_test = train_test_split(X_dev, y_dev, test_size=0.4, random_state=2)"
   ]
  },
  {
   "cell_type": "code",
   "execution_count": 7,
   "metadata": {},
   "outputs": [],
   "source": [
    "BDT_clf = AdaBoostClassifier(DecisionTreeClassifier(max_depth=1), algorithm=\"SAMME\", \n",
    "                             n_estimators=100, learning_rate=2).fit(X_train, y_train)"
   ]
  },
  {
   "cell_type": "code",
   "execution_count": 8,
   "metadata": {},
   "outputs": [],
   "source": [
    "# Total of four things: Training and Testing For signal and background\n",
    "\n",
    "Classifier_training_S = BDT_clf.decision_function(X_train[y_train>0.5]).ravel()\n",
    "Classifier_training_B = BDT_clf.decision_function(X_train[y_train<0.5]).ravel() \n",
    "Classifier_testing_S = BDT_clf.decision_function(X_test[y_test>0.5]).ravel()\n",
    "Classifier_testing_B = BDT_clf.decision_function(X_test[y_test<0.5]).ravel() "
   ]
  },
  {
   "cell_type": "code",
   "execution_count": 9,
   "metadata": {},
   "outputs": [
    {
     "data": {
      "image/png": "[encoded data removed]",
      "text/plain": [
       "<Figure size 432x288 with 1 Axes>"
      ]
     },
     "metadata": {
      "needs_background": "light"
     },
     "output_type": "display_data"
    }
   ],
   "source": [
    "# This will be the min/max of our plots\n",
    "c_max = 1\n",
    "c_min = -1\n",
    "\n",
    "# Get histograms of the classifiers\n",
    "Histo_training_S = np.histogram(Classifier_training_S,bins=10,range=(c_min,c_max))\n",
    "Histo_training_B = np.histogram(Classifier_training_B,bins=10,range=(c_min,c_max))\n",
    "Histo_testing_S = np.histogram(Classifier_testing_S,bins=10,range=(c_min,c_max))\n",
    "Histo_testing_B = np.histogram(Classifier_testing_B,bins=10,range=(c_min,c_max))\n",
    "\n",
    "# Lets get the min/max of the Histograms\n",
    "AllHistos= [Histo_training_S,Histo_training_B,Histo_testing_S,Histo_testing_B]\n",
    "h_max = max([histo[0].max() for histo in AllHistos])*1.2\n",
    "h_min = max([histo[0].min() for histo in AllHistos])\n",
    "\n",
    "# Get the histogram properties (binning, widths, centers)\n",
    "bin_edges = Histo_training_S[1]\n",
    "bin_centers = ( bin_edges[:-1] + bin_edges[1:]  ) /2.\n",
    "bin_widths = (bin_edges[1:] - bin_edges[:-1])\n",
    " \n",
    "# To make error bar plots for the data, take the Poisson uncertainty sqrt(N)\n",
    "ErrorBar_testing_S = np.sqrt(Histo_testing_S[0])\n",
    "ErrorBar_testing_B = np.sqrt(Histo_testing_B[0])\n",
    " \n",
    "# Draw objects\n",
    "ax1 = plt.subplot(111)\n",
    " \n",
    "# Draw solid histograms for the training data\n",
    "ax1.bar(bin_centers-bin_widths/2.,Histo_training_S[0],facecolor='blue',linewidth=0,width=bin_widths,label='S (Train)',alpha=0.5)\n",
    "ax1.bar(bin_centers-bin_widths/2.,Histo_training_B[0],facecolor='red',linewidth=0,width=bin_widths,label='B (Train)',alpha=0.5)\n",
    " \n",
    "# Draw error-bar histograms for the testing data\n",
    "ax1.errorbar(bin_centers, Histo_testing_S[0], yerr=ErrorBar_testing_S, xerr=None, ecolor='blue',c='blue',fmt='o',label='S (Test)')\n",
    "ax1.errorbar(bin_centers, Histo_testing_B[0], yerr=ErrorBar_testing_B, xerr=None, ecolor='red',c='red',fmt='o',label='B (Test)')\n",
    " \n",
    "# Make a colorful backdrop to show the clasification regions in red and blue\n",
    "ax1.axvspan(0.0, c_max, color='blue',alpha=0.08)\n",
    "ax1.axvspan(c_min,0.0, color='red',alpha=0.08)\n",
    " \n",
    "# Adjust the axis boundaries (just cosmetic)\n",
    "ax1.axis([c_min, c_max, h_min, h_max])\n",
    " \n",
    "# Make labels and title\n",
    "#%matplotlib notebook\n",
    "plt.title(\"Bkg and Signal distribution\")\n",
    "#plt.xlabel(\"BDT\")\n",
    "plt.ylabel(\"Counts/Bin\")\n",
    " \n",
    "# Make legend with smalll font\n",
    "legend = ax1.legend(loc='upper center', shadow=True,ncol=2)\n",
    "for alabel in legend.get_texts():\n",
    "            alabel.set_fontsize('small')"
   ]
  }
 ],
 "metadata": {
  "kernelspec": {
   "display_name": "Python 3",
   "language": "python",
   "name": "python3"
  },
  "language_info": {
   "codemirror_mode": {
    "name": "ipython",
    "version": 3
   },
   "file_extension": ".py",
   "mimetype": "text/x-python",
   "name": "python",
   "nbconvert_exporter": "python",
   "pygments_lexer": "ipython3",
   "version": "3.7.6"
  }
 },
 "nbformat": 4,
 "nbformat_minor": 4
}
