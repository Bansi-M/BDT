{
 "cells": [
  {
   "cell_type": "markdown",
   "metadata": {},
   "source": [
    "## BDT"
   ]
  },
  {
   "cell_type": "code",
   "execution_count": 1,
   "metadata": {},
   "outputs": [],
   "source": [
    "import numpy as np\n",
    "import matplotlib.pyplot as plt\n",
    "from sklearn.model_selection import train_test_split\n",
    "from sklearn.ensemble import AdaBoostClassifier\n",
    "from sklearn.tree import DecisionTreeClassifier\n",
    "from sklearn.preprocessing import StandardScaler\n",
    "import seaborn as sns\n",
    "import pandas as pd\n",
    "import math"
   ]
  },
  {
   "cell_type": "markdown",
   "metadata": {},
   "source": [
    "#### Load Samples"
   ]
  },
  {
   "cell_type": "code",
   "execution_count": 2,
   "metadata": {},
   "outputs": [],
   "source": [
    "signal_all = pd.DataFrame()\n",
    "signal_mass = [300, 420, 440, 460, 500, 600, 700, 800, 900, 1000, 1200, 1400, 1600, 2000] #All signals\n",
    "for each in signal_mass:\n",
    "    df_temp = pd.read_csv(str(each) + \".csv\", index_col=0)\n",
    "    df_temp.drop(columns=[\"nTags\", \"MCChannelNumber\", \"mVHres\"], inplace=True)\n",
    "    signal_all = pd.concat([df_temp, signal_all], ignore_index=True)\n",
    "    \n",
    "signal_300 = pd.read_csv('300.csv', index_col=0) #Want to test 500\n",
    "signal_300.drop([\"nTags\", \"MCChannelNumber\", \"mVHres\"], axis=1, inplace=True)\n",
    "    \n",
    "background = pd.read_csv(\"background.csv\", index_col=0)\n",
    "background.drop([\"nTags\", \"MCChannelNumber\", \"mVHres\"], axis=1, inplace=True)\n",
    "\n",
    "background = background[background[\"weight\"]>0 ] #Only positive Bkg Weight"
   ]
  },
  {
   "cell_type": "markdown",
   "metadata": {},
   "source": [
    "#### train_test_split on signals and bkg separately:"
   ]
  },
  {
   "cell_type": "code",
   "execution_count": 3,
   "metadata": {},
   "outputs": [],
   "source": [
    "train_bkg, test_bkg = train_test_split(background, test_size=0.4, random_state=2) \n",
    "train_signal, test_signal = train_test_split(signal_all, test_size=0.4, random_state=2)\n",
    "train_signal_300, test_signal_300 = train_test_split(signal_300, test_size=0.4, random_state=2)"
   ]
  },
  {
   "cell_type": "markdown",
   "metadata": {},
   "source": [
    "#### Change the weights of training signal so the sum is the same as that of bkg:"
   ]
  },
  {
   "cell_type": "code",
   "execution_count": 4,
   "metadata": {},
   "outputs": [],
   "source": [
    "train_signal_weight = train_signal[\"weight\"] * np.sum(train_bkg[\"weight\"])/np.sum(train_signal[\"weight\"])\n",
    "\n",
    "test_signal_weight_3 = test_signal_300[\"weight\"] * np.sum(test_bkg[\"weight\"])/np.sum(test_signal_300[\"weight\"])\n",
    "    \n",
    "test_bkg_weight = test_bkg[\"weight\"].to_numpy()\n",
    "\n",
    "train_bkg_weight = train_bkg[\"weight\"].to_numpy()"
   ]
  },
  {
   "cell_type": "markdown",
   "metadata": {},
   "source": [
    "#### Combine train_signal and train_bkg:"
   ]
  },
  {
   "cell_type": "code",
   "execution_count": 5,
   "metadata": {},
   "outputs": [],
   "source": [
    "train_y = len(train_bkg) * [0] + len(train_signal) * [1]\n",
    "test_y_3 = len(test_bkg) * [0] + len(test_signal_300) * [1]\n",
    "\n",
    "train_x = pd.concat([train_bkg, train_signal], ignore_index=True) \n",
    "test_x_3 = pd.concat([test_bkg, test_signal_300], ignore_index=True) "
   ]
  },
  {
   "cell_type": "markdown",
   "metadata": {},
   "source": [
    "#### Assign the weights to a different variable and drop weights from train_x "
   ]
  },
  {
   "cell_type": "code",
   "execution_count": 6,
   "metadata": {},
   "outputs": [],
   "source": [
    "train_weight = train_x[\"weight\"].to_numpy()\n",
    "test_weight_3 = test_x_3[\"weight\"].to_numpy()\n",
    "\n",
    "train_x.drop([\"weight\"], axis=1, inplace=True)\n",
    "test_x_3.drop([\"weight\"], axis=1, inplace=True)"
   ]
  },
  {
   "cell_type": "markdown",
   "metadata": {},
   "source": [
    "#### Fit with train_x:"
   ]
  },
  {
   "cell_type": "code",
   "execution_count": 26,
   "metadata": {},
   "outputs": [],
   "source": [
    "BDT_clf = AdaBoostClassifier(DecisionTreeClassifier(max_depth=1), algorithm=\"SAMME\", \n",
    "                                 n_estimators=50, learning_rate=1).fit(train_x,train_y, train_weight)"
   ]
  },
  {
   "cell_type": "code",
   "execution_count": 27,
   "metadata": {},
   "outputs": [],
   "source": [
    "bkg_train = BDT_clf.decision_function(train_bkg.drop(columns=[\"weight\"]))\n",
    "signal_train = BDT_clf.decision_function(train_signal.drop(columns=[\"weight\"]))\n",
    "bkg_test = BDT_clf.decision_function(test_bkg.drop(columns=[\"weight\"]))\n",
    "signal_test = BDT_clf.decision_function(test_signal_300.drop(columns=[\"weight\"]))"
   ]
  },
  {
   "cell_type": "markdown",
   "metadata": {},
   "source": [
    "#### Plots and significance:"
   ]
  },
  {
   "cell_type": "code",
   "execution_count": 30,
   "metadata": {},
   "outputs": [
    {
     "data": {
      "image/png": "[encoded data removed]",
      "text/plain": [
       "<Figure size 432x288 with 1 Axes>"
      ]
     },
     "metadata": {
      "needs_background": "light"
     },
     "output_type": "display_data"
    }
   ],
   "source": [
    "c_max = 1\n",
    "c_min = -1\n",
    "\n",
    "bins = np.linspace(-1,1,20)\n",
    "\n",
    "plt.hist(bkg_test,bins=20,range=(c_min,c_max), histtype='step', fill=False, density=True, weights = test_bkg_weight, color ='dodgerblue', \n",
    "         label=\"Testing Bkg\")\n",
    "plt.hist(signal_test,bins=20,range=(c_min,c_max), histtype='step', fill=False, density=True, weights = test_signal_weight_3, color ='orange', \n",
    "         label=\"Testing Signal (300)\")\n",
    "plt.hist(bkg_train,bins=20,range=(c_min,c_max), histtype='step', fill=False, density=True, weights = train_bkg_weight, color ='limegreen', \n",
    "         label=\"Training Bkg\")\n",
    "plt.hist(signal_train,bins=20,range=(c_min,c_max), histtype='step', fill=False, density=True, weights = train_signal_weight, color ='m', \n",
    "         label=\"Training Signal\")\n",
    "        \n",
    "plt.xlabel('BDT output')\n",
    "plt.ylabel('Density')\n",
    "plt.legend(loc=\"upper left\")\n",
    "\n",
    "sighist, _ = np.histogram(signal_test, bins=bins, weights=test_signal_weight_3)\n",
    "bkghist, _ = np.histogram(bkg_test, bins=bins, weights=test_bkg_weight)\n",
    "sighist_train, _ = np.histogram(signal_train, bins=bins, weights=train_signal_weight)\n",
    "bkghist_train, _ = np.histogram(bkg_train, bins=bins, weights=train_bkg_weight)"
   ]
  },
  {
   "cell_type": "code",
   "execution_count": 31,
   "metadata": {},
   "outputs": [
    {
     "name": "stdout",
     "output_type": "stream",
     "text": [
      "('Testing significance is:', 178.46864633065738)\n",
      "('Training significance is:', 525.8299399187811)\n"
     ]
    }
   ],
   "source": [
    "portion = 0.4\n",
    "logsig = True\n",
    "    \n",
    "backgrounds_content = np.array(bkghist)/portion\n",
    "signal_content = np.array(sighist)/portion\n",
    "backgrounds_content_train = np.array(bkghist_train)/portion\n",
    "signal_content_train = np.array(sighist_train)/portion\n",
    "    \n",
    "total = 0\n",
    "\n",
    "for each_b, each_s in zip(backgrounds_content, signal_content):\n",
    "    if each_b > 0 and each_s > 0:\n",
    "        total += 2 * ((each_s + each_b) * math.log(1 + each_s/each_b) - each_s)\n",
    "test_signif = \"Testing significance is:\",math.sqrt(total)\n",
    "\n",
    "for each_b, each_s in zip(backgrounds_content_train, signal_content_train):\n",
    "    if each_b > 0 and each_s > 0:\n",
    "        total += 2 * ((each_s + each_b) * math.log(1 + each_s/each_b) - each_s)\n",
    "train_signif = \"Training significance is:\", math.sqrt(total)   \n",
    "    \n",
    "print(test_signif)\n",
    "print(train_signif)"
   ]
  },
  {
   "cell_type": "code",
   "execution_count": null,
   "metadata": {},
   "outputs": [],
   "source": []
  }
 ],
 "metadata": {
  "kernelspec": {
   "display_name": "Python 3",
   "language": "python",
   "name": "python3"
  },
  "language_info": {
   "codemirror_mode": {
    "name": "ipython",
    "version": 3
   },
   "file_extension": ".py",
   "mimetype": "text/x-python",
   "name": "python",
   "nbconvert_exporter": "python",
   "pygments_lexer": "ipython3",
   "version": "3.7.6"
  }
 },
 "nbformat": 4,
 "nbformat_minor": 4
}
