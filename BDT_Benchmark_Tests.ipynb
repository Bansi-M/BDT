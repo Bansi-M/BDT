{
 "cells": [
  {
   "cell_type": "markdown",
   "metadata": {},
   "source": [
    "# BDT Benchmark Tests"
   ]
  },
  {
   "cell_type": "markdown",
   "metadata": {},
   "source": [
    "### Variables being tested:"
   ]
  },
  {
   "cell_type": "markdown",
   "metadata": {},
   "source": [
    "- Test size/Training size\n",
    "    - test sizes: 0.4, 0.25, 0.6\n",
    "    - training sizes: 0.6, 0.75, 0.4\n",
    "- n estimators\n",
    "    - 100, 10000, 5000\n",
    "- learning rate\n",
    "    - 1, 10, 50"
   ]
  },
  {
   "cell_type": "markdown",
   "metadata": {},
   "source": [
    "### Initial code (without any changes)"
   ]
  },
  {
   "cell_type": "markdown",
   "metadata": {},
   "source": [
    "- test size = 0.4\n",
    "- training size = 0.6\n",
    "- random state = 2\n",
    "- n estimators = 100\n",
    "- learning rate = 1"
   ]
  },
  {
   "cell_type": "code",
   "execution_count": null,
   "metadata": {
    "collapsed": true
   },
   "outputs": [],
   "source": [
    "import numpy as np\n",
    "import matplotlib.pyplot as plt\n",
    "from sklearn.datasets import load_iris\n",
    "from sklearn.model_selection import cross_val_score\n",
    "from sklearn.model_selection import train_test_split\n",
    "from sklearn.ensemble import AdaBoostClassifier\n",
    "from sklearn.metrics import confusion_matrix\n",
    "import seaborn as sns\n",
    "\n",
    "import pandas as pd\n",
    "\n",
    "signal = pd.read_csv('.//data//300.csv', index_col=0)\n",
    "background = pd.read_csv('.//data//background.csv', index_col=0)\n",
    "\n",
    "signal.drop([\"nTags\", \"MCChannelNumber\", \"mVHres\"], axis=1, inplace=True)\n",
    "background.drop([\"nTags\", \"MCChannelNumber\", \"mVHres\"], axis=1, inplace=True)"
   ]
  },
  {
   "cell_type": "code",
   "execution_count": 3,
   "metadata": {},
   "outputs": [
    {
     "name": "stdout",
     "output_type": "stream",
     "text": [
      "Decision Tree Classifier Score is:\n",
      "\tTrain Score =  0.9059502401713917\n",
      "\tTest Score  = 0.9060\n",
      "\tNumber of mis-classified test data = 25866.0\n"
     ]
    }
   ],
   "source": [
    "train_bkg, test_bkg = train_test_split(background, test_size=0.4, random_state=2)\n",
    "train_signal, test_signal = train_test_split(signal, test_size=0.4, random_state=2)\n",
    "\n",
    "train_y = len(train_bkg) * [0] + len(train_signal) * [1]\n",
    "test_y = len(test_bkg) * [0] + len(test_signal) * [1]\n",
    "\n",
    "train_x = pd.concat([train_bkg, train_signal], ignore_index=True)\n",
    "test_x = pd.concat([test_bkg, test_signal], ignore_index=True)\n",
    "\n",
    "train_x.drop([\"weight\"], axis=1, inplace=True)\n",
    "test_x.drop([\"weight\"], axis=1, inplace=True)\n",
    "\n",
    "\n",
    "BDT_clf = AdaBoostClassifier(n_estimators=100).fit(train_x, train_y)\n",
    "train_score = BDT_clf.score(train_x, train_y)\n",
    "test_score  = BDT_clf.score(test_x, test_y)\n",
    "\n",
    "print(\"Decision Tree Classifier Score is:\")\n",
    "print(\"\\tTrain Score = \", train_score)\n",
    "print(\"\\tTest Score  = {:5.4f}\".format(test_score))\n",
    "print(\"\\tNumber of mis-classified test data = {:2.1f}\".format((1-test_score)*len(test_x)))"
   ]
  },
  {
   "cell_type": "code",
   "execution_count": 9,
   "metadata": {},
   "outputs": [
    {
     "name": "stdout",
     "output_type": "stream",
     "text": [
      "\n",
      "\u001b[1mStudy the test data\u001b[0m\n",
      "\n",
      "confusion matrix (test) = \n",
      " [[249072    108]\n",
      " [ 25758    144]]\n"
     ]
    },
    {
     "data": {
      "image/png": "[encoded data removed]",
      "text/plain": [
       "<Figure size 432x288 with 2 Axes>"
      ]
     },
     "metadata": {},
     "output_type": "display_data"
    },
    {
     "name": "stdout",
     "output_type": "stream",
     "text": [
      "\n",
      "\u001b[1mCheck ground truth against predictions for the test sample\u001b[0m\n",
      "Truth\tPrediction\tCorrect Prediction\n",
      "\n",
      "\u001b[1mRun Cross Validation On the Sample\u001b[0m\n",
      "cross validation scores =  [0.90596789 0.9059073  0.90617275 0.90584557 0.90589404]\n",
      "\tmean = 0.9060\n"
     ]
    }
   ],
   "source": [
    "print(\"\\n\\033[1mStudy the test data\\033[0m\")\n",
    "\n",
    "predictions = BDT_clf.predict(test_x)\n",
    "BDTcm = confusion_matrix(test_y, predictions)\n",
    "print(\"\\nconfusion matrix (test) = \\n\", BDTcm)\n",
    "\n",
    "ax= plt.subplot()\n",
    "sns.heatmap(BDTcm, center=True, ax = ax)\n",
    "ax.set_xlabel('Predicted');ax.set_ylabel('Truth'); \n",
    "ax.set_title('Confusion Matrix'); \n",
    "ax.xaxis.set_ticklabels(['background', 'signal']); ax.yaxis.set_ticklabels(['background', 'signal']);\n",
    "plt.show()\n",
    "\n",
    "print(\"\\n\\033[1mCheck ground truth against predictions for the test sample\\033[0m\")\n",
    "print(\"Truth\\tPrediction\\tCorrect Prediction\")\n",
    "for i in range(len(predictions)):\n",
    "    Match = False\n",
    "    if predictions[i] == test_y[i]:\n",
    "        Match = True\n",
    "\n",
    "print(\"\\n\\033[1mRun Cross Validation On the Sample\\033[0m\")\n",
    "scores = cross_val_score(BDT_clf, train_x, train_y, cv=5)\n",
    "print(\"cross validation scores = \", scores)\n",
    "print(\"\\tmean = {:5.4f}\".format(scores.mean()))"
   ]
  },
  {
   "cell_type": "markdown",
   "metadata": {},
   "source": [
    "This initial setup was quite bad as it misclassified most of the signals"
   ]
  },
  {
   "cell_type": "markdown",
   "metadata": {},
   "source": [
    "## Test size/Training size"
   ]
  },
  {
   "cell_type": "markdown",
   "metadata": {},
   "source": [
    "### test_size = 0.2, training_size = 0.75"
   ]
  },
  {
   "cell_type": "code",
   "execution_count": null,
   "metadata": {},
   "outputs": [],
   "source": [
    "train_bkg, test_bkg = train_test_split(background, test_size=0.25, random_state=2)\n",
    "train_signal, test_signal = train_test_split(signal, test_size=0.25, random_state=2)\n",
    "\n",
    "train_y = len(train_bkg) * [0] + len(train_signal) * [1]\n",
    "test_y = len(test_bkg) * [0] + len(test_signal) * [1]\n",
    "\n",
    "train_x = pd.concat([train_bkg, train_signal], ignore_index=True)\n",
    "test_x = pd.concat([test_bkg, test_signal], ignore_index=True)\n",
    "\n",
    "train_x.drop([\"weight\"], axis=1, inplace=True)\n",
    "test_x.drop([\"weight\"], axis=1, inplace=True)\n",
    "\n",
    "\n",
    "BDT_clf = AdaBoostClassifier(n_estimators=100).fit(train_x, train_y)\n",
    "train_score = BDT_clf.score(train_x, train_y)\n",
    "test_score  = BDT_clf.score(test_x, test_y)\n",
    "\n",
    "print(\"Decision Tree Classifier Score is:\")\n",
    "print(\"\\tTrain Score = \", train_score)\n",
    "print(\"\\tTest Score  = {:5.4f}\".format(test_score))\n",
    "print(\"\\tNumber of mis-classified test data = {:2.1f}\".format((1-test_score)*len(test_x)))"
   ]
  },
  {
   "cell_type": "code",
   "execution_count": null,
   "metadata": {},
   "outputs": [],
   "source": [
    "print(\"\\n\\033[1mStudy the test data\\033[0m\")\n",
    "\n",
    "predictions = BDT_clf.predict(test_x)\n",
    "BDTcm = confusion_matrix(test_y, predictions)\n",
    "print(\"\\nconfusion matrix (test) = \\n\", BDTcm)\n",
    "\n",
    "ax= plt.subplot()\n",
    "sns.heatmap(BDTcm, center=True, ax = ax)\n",
    "ax.set_xlabel('Predicted');ax.set_ylabel('Truth'); \n",
    "ax.set_title('Confusion Matrix'); \n",
    "ax.xaxis.set_ticklabels(['background', 'signal']); ax.yaxis.set_ticklabels(['background', 'signal']);\n",
    "plt.show()\n",
    "\n",
    "print(\"\\n\\033[1mCheck ground truth against predictions for the test sample\\033[0m\")\n",
    "print(\"Truth\\tPrediction\\tCorrect Prediction\")\n",
    "for i in range(len(predictions)):\n",
    "    Match = False\n",
    "    if predictions[i] == test_y[i]:\n",
    "        Match = True\n",
    "\n",
    "print(\"\\n\\033[1mRun Cross Validation On the Sample\\033[0m\")\n",
    "scores = cross_val_score(BDT_clf, train_x, train_y, cv=5)\n",
    "print(\"cross validation scores = \", scores)\n",
    "print(\"\\tmean = {:5.4f}\".format(scores.mean()))"
   ]
  },
  {
   "cell_type": "markdown",
   "metadata": {},
   "source": [
    "The background classification was better than the intial setup, however the signal classification was even worse so this is quite bad."
   ]
  },
  {
   "cell_type": "markdown",
   "metadata": {},
   "source": [
    "### test_size = 0.6, training_size = 0.4"
   ]
  },
  {
   "cell_type": "code",
   "execution_count": 13,
   "metadata": {},
   "outputs": [
    {
     "name": "stdout",
     "output_type": "stream",
     "text": [
      "Decision Tree Classifier Score is:\n",
      "\tTrain Score =  0.9059804203125624\n",
      "\tTest Score  = 0.9060\n",
      "\tNumber of mis-classified test data = 38807.0\n"
     ]
    }
   ],
   "source": [
    "train_bkg, test_bkg = train_test_split(background, test_size=0.6, random_state=2)\n",
    "train_signal, test_signal = train_test_split(signal, test_size=0.6, random_state=2)\n",
    "\n",
    "train_y = len(train_bkg) * [0] + len(train_signal) * [1]\n",
    "test_y = len(test_bkg) * [0] + len(test_signal) * [1]\n",
    "\n",
    "train_x = pd.concat([train_bkg, train_signal], ignore_index=True)\n",
    "test_x = pd.concat([test_bkg, test_signal], ignore_index=True)\n",
    "\n",
    "train_x.drop([\"weight\"], axis=1, inplace=True)\n",
    "test_x.drop([\"weight\"], axis=1, inplace=True)\n",
    "\n",
    "\n",
    "BDT_clf = AdaBoostClassifier(n_estimators=100).fit(train_x, train_y)\n",
    "train_score = BDT_clf.score(train_x, train_y)\n",
    "test_score  = BDT_clf.score(test_x, test_y)\n",
    "\n",
    "print(\"Decision Tree Classifier Score is:\")\n",
    "print(\"\\tTrain Score = \", train_score)\n",
    "print(\"\\tTest Score  = {:5.4f}\".format(test_score))\n",
    "print(\"\\tNumber of mis-classified test data = {:2.1f}\".format((1-test_score)*len(test_x)))"
   ]
  },
  {
   "cell_type": "code",
   "execution_count": 14,
   "metadata": {},
   "outputs": [
    {
     "name": "stdout",
     "output_type": "stream",
     "text": [
      "\n",
      "\u001b[1mStudy the test data\u001b[0m\n",
      "\n",
      "confusion matrix (test) = \n",
      " [[373595    175]\n",
      " [ 38632    221]]\n"
     ]
    },
    {
     "data": {
      "image/png": "[encoded data removed]",
      "text/plain": [
       "<Figure size 432x288 with 2 Axes>"
      ]
     },
     "metadata": {},
     "output_type": "display_data"
    },
    {
     "name": "stdout",
     "output_type": "stream",
     "text": [
      "\n",
      "\u001b[1mCheck ground truth against predictions for the test sample\u001b[0m\n",
      "Truth\tPrediction\tCorrect Prediction\n",
      "\n",
      "\u001b[1mRun Cross Validation On the Sample\u001b[0m\n",
      "cross validation scores =  [0.90584728 0.90608187 0.9058274  0.90575469 0.90573651]\n",
      "\tmean = 0.9058\n"
     ]
    }
   ],
   "source": [
    "print(\"\\n\\033[1mStudy the test data\\033[0m\")\n",
    "\n",
    "predictions = BDT_clf.predict(test_x)\n",
    "BDTcm = confusion_matrix(test_y, predictions)\n",
    "print(\"\\nconfusion matrix (test) = \\n\", BDTcm)\n",
    "\n",
    "ax= plt.subplot()\n",
    "sns.heatmap(BDTcm, center=True, ax = ax)\n",
    "ax.set_xlabel('Predicted');ax.set_ylabel('Truth'); \n",
    "ax.set_title('Confusion Matrix'); \n",
    "ax.xaxis.set_ticklabels(['background', 'signal']); ax.yaxis.set_ticklabels(['background', 'signal']);\n",
    "plt.show()\n",
    "\n",
    "print(\"\\n\\033[1mCheck ground truth against predictions for the test sample\\033[0m\")\n",
    "print(\"Truth\\tPrediction\\tCorrect Prediction\")\n",
    "for i in range(len(predictions)):\n",
    "    Match = False\n",
    "    if predictions[i] == test_y[i]:\n",
    "        Match = True\n",
    "\n",
    "print(\"\\n\\033[1mRun Cross Validation On the Sample\\033[0m\")\n",
    "scores = cross_val_score(BDT_clf, train_x, train_y, cv=5)\n",
    "print(\"cross validation scores = \", scores)\n",
    "print(\"\\tmean = {:5.4f}\".format(scores.mean()))"
   ]
  },
  {
   "cell_type": "markdown",
   "metadata": {},
   "source": [
    "The signal classification is getting better, but is still pretty bad."
   ]
  },
  {
   "cell_type": "markdown",
   "metadata": {},
   "source": [
    "### test_size = 0.8, training_size = 0.2"
   ]
  },
  {
   "cell_type": "code",
   "execution_count": 35,
   "metadata": {},
   "outputs": [
    {
     "name": "stdout",
     "output_type": "stream",
     "text": [
      "Decision Tree Classifier Score is:\n",
      "\tTrain Score =  0.9060127962774466\n",
      "\tTest Score  = 0.9060\n",
      "\tNumber of mis-classified test data = 51737.0\n"
     ]
    }
   ],
   "source": [
    "train_bkg, test_bkg = train_test_split(background, test_size=0.8, random_state=2)\n",
    "train_signal, test_signal = train_test_split(signal, test_size=0.8, random_state=2)\n",
    "\n",
    "train_y = len(train_bkg) * [0] + len(train_signal) * [1]\n",
    "test_y = len(test_bkg) * [0] + len(test_signal) * [1]\n",
    "\n",
    "train_x = pd.concat([train_bkg, train_signal], ignore_index=True)\n",
    "test_x = pd.concat([test_bkg, test_signal], ignore_index=True)\n",
    "\n",
    "train_x.drop([\"weight\"], axis=1, inplace=True)\n",
    "test_x.drop([\"weight\"], axis=1, inplace=True)\n",
    "\n",
    "\n",
    "BDT_clf = AdaBoostClassifier(n_estimators=100).fit(train_x, train_y)\n",
    "train_score = BDT_clf.score(train_x, train_y)\n",
    "test_score  = BDT_clf.score(test_x, test_y)\n",
    "\n",
    "print(\"Decision Tree Classifier Score is:\")\n",
    "print(\"\\tTrain Score = \", train_score)\n",
    "print(\"\\tTest Score  = {:5.4f}\".format(test_score))\n",
    "print(\"\\tNumber of mis-classified test data = {:2.1f}\".format((1-test_score)*len(test_x)))"
   ]
  },
  {
   "cell_type": "code",
   "execution_count": 16,
   "metadata": {},
   "outputs": [
    {
     "name": "stdout",
     "output_type": "stream",
     "text": [
      "\n",
      "\u001b[1mStudy the test data\u001b[0m\n",
      "\n",
      "confusion matrix (test) = \n",
      " [[498016    344]\n",
      " [ 51393    411]]\n"
     ]
    },
    {
     "data": {
      "image/png": "[encoded data removed]",
      "text/plain": [
       "<Figure size 432x288 with 2 Axes>"
      ]
     },
     "metadata": {},
     "output_type": "display_data"
    },
    {
     "name": "stdout",
     "output_type": "stream",
     "text": [
      "\n",
      "\u001b[1mCheck ground truth against predictions for the test sample\u001b[0m\n",
      "Truth\tPrediction\tCorrect Prediction\n",
      "\n",
      "\u001b[1mRun Cross Validation On the Sample\u001b[0m\n",
      "cross validation scores =  [0.90595463 0.90599098 0.9061364  0.90595463 0.90570016]\n",
      "\tmean = 0.9059\n"
     ]
    }
   ],
   "source": [
    "print(\"\\n\\033[1mStudy the test data\\033[0m\")\n",
    "\n",
    "predictions = BDT_clf.predict(test_x)\n",
    "BDTcm = confusion_matrix(test_y, predictions)\n",
    "print(\"\\nconfusion matrix (test) = \\n\", BDTcm)\n",
    "\n",
    "ax= plt.subplot()\n",
    "sns.heatmap(BDTcm, center=True, ax = ax)\n",
    "ax.set_xlabel('Predicted');ax.set_ylabel('Truth'); \n",
    "ax.set_title('Confusion Matrix'); \n",
    "ax.xaxis.set_ticklabels(['background', 'signal']); ax.yaxis.set_ticklabels(['background', 'signal']);\n",
    "plt.show()\n",
    "\n",
    "print(\"\\n\\033[1mCheck ground truth against predictions for the test sample\\033[0m\")\n",
    "print(\"Truth\\tPrediction\\tCorrect Prediction\")\n",
    "for i in range(len(predictions)):\n",
    "    Match = False\n",
    "    if predictions[i] == test_y[i]:\n",
    "        Match = True\n",
    "\n",
    "print(\"\\n\\033[1mRun Cross Validation On the Sample\\033[0m\")\n",
    "scores = cross_val_score(BDT_clf, train_x, train_y, cv=5)\n",
    "print(\"cross validation scores = \", scores)\n",
    "print(\"\\tmean = {:5.4f}\".format(scores.mean()))"
   ]
  },
  {
   "cell_type": "markdown",
   "metadata": {},
   "source": [
    "This is the best result so far, however we can greatly improve on this."
   ]
  },
  {
   "cell_type": "markdown",
   "metadata": {},
   "source": [
    "## n estimators"
   ]
  },
  {
   "cell_type": "markdown",
   "metadata": {},
   "source": [
    "### n_estimators = 1000"
   ]
  },
  {
   "cell_type": "code",
   "execution_count": 20,
   "metadata": {},
   "outputs": [
    {
     "name": "stdout",
     "output_type": "stream",
     "text": [
      "Decision Tree Classifier Score is:\n",
      "\tTrain Score =  0.9062265220952833\n",
      "\tTest Score  = 0.9061\n",
      "\tNumber of mis-classified test data = 25831.0\n"
     ]
    }
   ],
   "source": [
    "train_bkg, test_bkg = train_test_split(background, test_size=0.4, random_state=2)\n",
    "train_signal, test_signal = train_test_split(signal, test_size=0.4, random_state=2)\n",
    "\n",
    "train_y = len(train_bkg) * [0] + len(train_signal) * [1]\n",
    "test_y = len(test_bkg) * [0] + len(test_signal) * [1]\n",
    "\n",
    "train_x = pd.concat([train_bkg, train_signal], ignore_index=True)\n",
    "test_x = pd.concat([test_bkg, test_signal], ignore_index=True)\n",
    "\n",
    "train_x.drop([\"weight\"], axis=1, inplace=True)\n",
    "test_x.drop([\"weight\"], axis=1, inplace=True)\n",
    "\n",
    "\n",
    "BDT_clf = AdaBoostClassifier(n_estimators=1000).fit(train_x, train_y)\n",
    "train_score = BDT_clf.score(train_x, train_y)\n",
    "test_score  = BDT_clf.score(test_x, test_y)\n",
    "\n",
    "print(\"Decision Tree Classifier Score is:\")\n",
    "print(\"\\tTrain Score = \", train_score)\n",
    "print(\"\\tTest Score  = {:5.4f}\".format(test_score))\n",
    "print(\"\\tNumber of mis-classified test data = {:2.1f}\".format((1-test_score)*len(test_x)))"
   ]
  },
  {
   "cell_type": "code",
   "execution_count": 21,
   "metadata": {},
   "outputs": [
    {
     "name": "stdout",
     "output_type": "stream",
     "text": [
      "\n",
      "\u001b[1mStudy the test data\u001b[0m\n",
      "\n",
      "confusion matrix (test) = \n",
      " [[248954    226]\n",
      " [ 25605    297]]\n"
     ]
    },
    {
     "data": {
      "image/png": "[encoded data removed]",
      "text/plain": [
       "<Figure size 432x288 with 2 Axes>"
      ]
     },
     "metadata": {},
     "output_type": "display_data"
    },
    {
     "name": "stdout",
     "output_type": "stream",
     "text": [
      "\n",
      "\u001b[1mCheck ground truth against predictions for the test sample\u001b[0m\n",
      "Truth\tPrediction\tCorrect Prediction\n",
      "\n",
      "\u001b[1mRun Cross Validation On the Sample\u001b[0m\n",
      "cross validation scores =  [0.90605271 0.90584671 0.90590616 0.90596675 0.90610004]\n",
      "\tmean = 0.9060\n"
     ]
    }
   ],
   "source": [
    "print(\"\\n\\033[1mStudy the test data\\033[0m\")\n",
    "\n",
    "predictions = BDT_clf.predict(test_x)\n",
    "BDTcm = confusion_matrix(test_y, predictions)\n",
    "print(\"\\nconfusion matrix (test) = \\n\", BDTcm)\n",
    "\n",
    "ax= plt.subplot()\n",
    "sns.heatmap(BDTcm, center=True, ax = ax)\n",
    "ax.set_xlabel('Predicted');ax.set_ylabel('Truth'); \n",
    "ax.set_title('Confusion Matrix'); \n",
    "ax.xaxis.set_ticklabels(['background', 'signal']); ax.yaxis.set_ticklabels(['background', 'signal']);\n",
    "plt.show()\n",
    "\n",
    "print(\"\\n\\033[1mCheck ground truth against predictions for the test sample\\033[0m\")\n",
    "print(\"Truth\\tPrediction\\tCorrect Prediction\")\n",
    "for i in range(len(predictions)):\n",
    "    Match = False\n",
    "    if predictions[i] == test_y[i]:\n",
    "        Match = True\n",
    "\n",
    "print(\"\\n\\033[1mRun Cross Validation On the Sample\\033[0m\")\n",
    "scores = cross_val_score(BDT_clf, train_x, train_y, cv=5)\n",
    "print(\"cross validation scores = \", scores)\n",
    "print(\"\\tmean = {:5.4f}\".format(scores.mean()))"
   ]
  },
  {
   "cell_type": "markdown",
   "metadata": {},
   "source": [
    "This took hours to run and the signal classification wasn't even that good, so I don't think it's worth having a large number of estimators - I think it will be better to increase the learning rate so I didn't run 10,000 estimators."
   ]
  },
  {
   "cell_type": "markdown",
   "metadata": {
    "collapsed": true
   },
   "source": [
    "## learning rate"
   ]
  },
  {
   "cell_type": "markdown",
   "metadata": {},
   "source": [
    "### learning_rate = 10"
   ]
  },
  {
   "cell_type": "code",
   "execution_count": 4,
   "metadata": {},
   "outputs": [
    {
     "name": "stdout",
     "output_type": "stream",
     "text": [
      "Decision Tree Classifier Score is:\n",
      "\tTrain Score =  0.094158818482776\n",
      "\tTest Score  = 0.0942\n",
      "\tNumber of mis-classified test data = 249180.0\n"
     ]
    }
   ],
   "source": [
    "train_bkg, test_bkg = train_test_split(background, test_size=0.4, random_state=2)\n",
    "train_signal, test_signal = train_test_split(signal, test_size=0.4, random_state=2)\n",
    "\n",
    "train_y = len(train_bkg) * [0] + len(train_signal) * [1]\n",
    "test_y = len(test_bkg) * [0] + len(test_signal) * [1]\n",
    "\n",
    "train_x = pd.concat([train_bkg, train_signal], ignore_index=True)\n",
    "test_x = pd.concat([test_bkg, test_signal], ignore_index=True)\n",
    "\n",
    "train_x.drop([\"weight\"], axis=1, inplace=True)\n",
    "test_x.drop([\"weight\"], axis=1, inplace=True)\n",
    "\n",
    "\n",
    "BDT_clf = AdaBoostClassifier(n_estimators=100, learning_rate = 10).fit(train_x, train_y)\n",
    "train_score = BDT_clf.score(train_x, train_y)\n",
    "test_score  = BDT_clf.score(test_x, test_y)\n",
    "\n",
    "print(\"Decision Tree Classifier Score is:\")\n",
    "print(\"\\tTrain Score = \", train_score)\n",
    "print(\"\\tTest Score  = {:5.4f}\".format(test_score))\n",
    "print(\"\\tNumber of mis-classified test data = {:2.1f}\".format((1-test_score)*len(test_x)))"
   ]
  },
  {
   "cell_type": "code",
   "execution_count": 5,
   "metadata": {},
   "outputs": [
    {
     "name": "stdout",
     "output_type": "stream",
     "text": [
      "\n",
      "\u001b[1mStudy the test data\u001b[0m\n",
      "\n",
      "confusion matrix (test) = \n",
      " [[     0 249180]\n",
      " [     0  25902]]\n"
     ]
    },
    {
     "data": {
      "image/png": "[encoded data removed]",
      "text/plain": [
       "<Figure size 432x288 with 2 Axes>"
      ]
     },
     "metadata": {},
     "output_type": "display_data"
    },
    {
     "name": "stdout",
     "output_type": "stream",
     "text": [
      "\n",
      "\u001b[1mCheck ground truth against predictions for the test sample\u001b[0m\n",
      "Truth\tPrediction\tCorrect Prediction\n",
      "\n",
      "\u001b[1mRun Cross Validation On the Sample\u001b[0m\n",
      "cross validation scores =  [0.0941654  0.0941654  0.09415443 0.09415443 0.09415443]\n",
      "\tmean = 0.0942\n"
     ]
    }
   ],
   "source": [
    "print(\"\\n\\033[1mStudy the test data\\033[0m\")\n",
    "\n",
    "predictions = BDT_clf.predict(test_x)\n",
    "BDTcm = confusion_matrix(test_y, predictions)\n",
    "print(\"\\nconfusion matrix (test) = \\n\", BDTcm)\n",
    "\n",
    "ax= plt.subplot()\n",
    "sns.heatmap(BDTcm, center=True, ax = ax)\n",
    "ax.set_xlabel('Predicted');ax.set_ylabel('Truth'); \n",
    "ax.set_title('Confusion Matrix'); \n",
    "ax.xaxis.set_ticklabels(['background', 'signal']); ax.yaxis.set_ticklabels(['background', 'signal']);\n",
    "plt.show()\n",
    "\n",
    "print(\"\\n\\033[1mCheck ground truth against predictions for the test sample\\033[0m\")\n",
    "print(\"Truth\\tPrediction\\tCorrect Prediction\")\n",
    "for i in range(len(predictions)):\n",
    "    Match = False\n",
    "    if predictions[i] == test_y[i]:\n",
    "        Match = True\n",
    "\n",
    "print(\"\\n\\033[1mRun Cross Validation On the Sample\\033[0m\")\n",
    "scores = cross_val_score(BDT_clf, train_x, train_y, cv=5)\n",
    "print(\"cross validation scores = \", scores)\n",
    "print(\"\\tmean = {:5.4f}\".format(scores.mean()))"
   ]
  },
  {
   "cell_type": "markdown",
   "metadata": {},
   "source": [
    "This is probably the worst result so far - the number of n_estimators needs to increase and the learning_rate needs to decrease. "
   ]
  },
  {
   "cell_type": "markdown",
   "metadata": {},
   "source": [
    "## test_size = 0.4, n_estimators = 500, learning_rate = 5"
   ]
  },
  {
   "cell_type": "code",
   "execution_count": 8,
   "metadata": {},
   "outputs": [
    {
     "name": "stdout",
     "output_type": "stream",
     "text": [
      "Decision Tree Classifier Score is:\n",
      "\tTrain Score =  0.09887015234282225\n",
      "\tTest Score  = 0.0990\n",
      "\tNumber of mis-classified test data = 247846.0\n"
     ]
    }
   ],
   "source": [
    "train_bkg, test_bkg = train_test_split(background, test_size=0.4, random_state=2)\n",
    "train_signal, test_signal = train_test_split(signal, test_size=0.4, random_state=2)\n",
    "\n",
    "train_y = len(train_bkg) * [0] + len(train_signal) * [1]\n",
    "test_y = len(test_bkg) * [0] + len(test_signal) * [1]\n",
    "\n",
    "train_x = pd.concat([train_bkg, train_signal], ignore_index=True)\n",
    "test_x = pd.concat([test_bkg, test_signal], ignore_index=True)\n",
    "\n",
    "train_x.drop([\"weight\"], axis=1, inplace=True)\n",
    "test_x.drop([\"weight\"], axis=1, inplace=True)\n",
    "\n",
    "\n",
    "BDT_clf = AdaBoostClassifier(n_estimators=500, learning_rate = 5).fit(train_x, train_y)\n",
    "train_score = BDT_clf.score(train_x, train_y)\n",
    "test_score  = BDT_clf.score(test_x, test_y)\n",
    "\n",
    "print(\"Decision Tree Classifier Score is:\")\n",
    "print(\"\\tTrain Score = \", train_score)\n",
    "print(\"\\tTest Score  = {:5.4f}\".format(test_score))\n",
    "print(\"\\tNumber of mis-classified test data = {:2.1f}\".format((1-test_score)*len(test_x)))"
   ]
  },
  {
   "cell_type": "code",
   "execution_count": 9,
   "metadata": {},
   "outputs": [
    {
     "name": "stdout",
     "output_type": "stream",
     "text": [
      "\n",
      "\u001b[1mStudy the test data\u001b[0m\n",
      "\n",
      "confusion matrix (test) = \n",
      " [[  1335 247845]\n",
      " [     1  25901]]\n"
     ]
    },
    {
     "data": {
      "image/png": "[encoded data removed]",
      "text/plain": [
       "<Figure size 432x288 with 2 Axes>"
      ]
     },
     "metadata": {},
     "output_type": "display_data"
    },
    {
     "name": "stdout",
     "output_type": "stream",
     "text": [
      "\n",
      "\u001b[1mCheck ground truth against predictions for the test sample\u001b[0m\n",
      "Truth\tPrediction\tCorrect Prediction\n",
      "\n",
      "\u001b[1mRun Cross Validation On the Sample\u001b[0m\n",
      "cross validation scores =  [0.09897607 0.09898819 0.10012845 0.09875915 0.09891668]\n",
      "\tmean = 0.0992\n"
     ]
    }
   ],
   "source": [
    "print(\"\\n\\033[1mStudy the test data\\033[0m\")\n",
    "\n",
    "predictions = BDT_clf.predict(test_x)\n",
    "BDTcm = confusion_matrix(test_y, predictions)\n",
    "print(\"\\nconfusion matrix (test) = \\n\", BDTcm)\n",
    "\n",
    "ax= plt.subplot()\n",
    "sns.heatmap(BDTcm, center=True, ax = ax)\n",
    "ax.set_xlabel('Predicted');ax.set_ylabel('Truth'); \n",
    "ax.set_title('Confusion Matrix'); \n",
    "ax.xaxis.set_ticklabels(['background', 'signal']); ax.yaxis.set_ticklabels(['background', 'signal']);\n",
    "plt.show()\n",
    "\n",
    "print(\"\\n\\033[1mCheck ground truth against predictions for the test sample\\033[0m\")\n",
    "print(\"Truth\\tPrediction\\tCorrect Prediction\")\n",
    "for i in range(len(predictions)):\n",
    "    Match = False\n",
    "    if predictions[i] == test_y[i]:\n",
    "        Match = True\n",
    "\n",
    "print(\"\\n\\033[1mRun Cross Validation On the Sample\\033[0m\")\n",
    "scores = cross_val_score(BDT_clf, train_x, train_y, cv=5)\n",
    "print(\"cross validation scores = \", scores)\n",
    "print(\"\\tmean = {:5.4f}\".format(scores.mean()))"
   ]
  },
  {
   "cell_type": "markdown",
   "metadata": {},
   "source": [
    "## test_size = 0.4, n_estimators = 500, learning_rate = 3"
   ]
  },
  {
   "cell_type": "code",
   "execution_count": 13,
   "metadata": {},
   "outputs": [
    {
     "name": "stdout",
     "output_type": "stream",
     "text": [
      "Decision Tree Classifier Score is:\n",
      "\tTrain Score =  0.09887015234282225\n",
      "\tTest Score  = 0.0990\n",
      "\tNumber of mis-classified test data = 247846.0\n"
     ]
    }
   ],
   "source": [
    "train_bkg, test_bkg = train_test_split(background, test_size=0.4, random_state=2)\n",
    "train_signal, test_signal = train_test_split(signal, test_size=0.4, random_state=2)\n",
    "\n",
    "train_y = len(train_bkg) * [0] + len(train_signal) * [1]\n",
    "test_y = len(test_bkg) * [0] + len(test_signal) * [1]\n",
    "\n",
    "train_x = pd.concat([train_bkg, train_signal], ignore_index=True)\n",
    "test_x = pd.concat([test_bkg, test_signal], ignore_index=True)\n",
    "\n",
    "train_x.drop([\"weight\"], axis=1, inplace=True)\n",
    "test_x.drop([\"weight\"], axis=1, inplace=True)\n",
    "\n",
    "\n",
    "BDT_clf = AdaBoostClassifier(n_estimators=500, learning_rate = 3).fit(train_x, train_y)\n",
    "train_score = BDT_clf.score(train_x, train_y)\n",
    "test_score  = BDT_clf.score(test_x, test_y)\n",
    "\n",
    "print(\"Decision Tree Classifier Score is:\")\n",
    "print(\"\\tTrain Score = \", train_score)\n",
    "print(\"\\tTest Score  = {:5.4f}\".format(test_score))\n",
    "print(\"\\tNumber of mis-classified test data = {:2.1f}\".format((1-test_score)*len(test_x)))"
   ]
  },
  {
   "cell_type": "code",
   "execution_count": 14,
   "metadata": {},
   "outputs": [
    {
     "name": "stdout",
     "output_type": "stream",
     "text": [
      "\n",
      "\u001b[1mStudy the test data\u001b[0m\n",
      "\n",
      "confusion matrix (test) = \n",
      " [[  1335 247845]\n",
      " [     1  25901]]\n"
     ]
    },
    {
     "data": {
      "image/png": "[encoded data removed]",
      "text/plain": [
       "<Figure size 432x288 with 2 Axes>"
      ]
     },
     "metadata": {},
     "output_type": "display_data"
    },
    {
     "name": "stdout",
     "output_type": "stream",
     "text": [
      "\n",
      "\u001b[1mCheck ground truth against predictions for the test sample\u001b[0m\n",
      "Truth\tPrediction\tCorrect Prediction\n",
      "\n",
      "\u001b[1mRun Cross Validation On the Sample\u001b[0m\n",
      "cross validation scores =  [0.09897607 0.09898819 0.10012845 0.09415443 0.09891668]\n",
      "\tmean = 0.0982\n"
     ]
    }
   ],
   "source": [
    "print(\"\\n\\033[1mStudy the test data\\033[0m\")\n",
    "\n",
    "predictions = BDT_clf.predict(test_x)\n",
    "BDTcm = confusion_matrix(test_y, predictions)\n",
    "print(\"\\nconfusion matrix (test) = \\n\", BDTcm)\n",
    "\n",
    "ax= plt.subplot()\n",
    "sns.heatmap(BDTcm, center=True, ax = ax)\n",
    "ax.set_xlabel('Predicted');ax.set_ylabel('Truth'); \n",
    "ax.set_title('Confusion Matrix'); \n",
    "ax.xaxis.set_ticklabels(['background', 'signal']); ax.yaxis.set_ticklabels(['background', 'signal']);\n",
    "plt.show()\n",
    "\n",
    "print(\"\\n\\033[1mCheck ground truth against predictions for the test sample\\033[0m\")\n",
    "print(\"Truth\\tPrediction\\tCorrect Prediction\")\n",
    "for i in range(len(predictions)):\n",
    "    Match = False\n",
    "    if predictions[i] == test_y[i]:\n",
    "        Match = True\n",
    "\n",
    "print(\"\\n\\033[1mRun Cross Validation On the Sample\\033[0m\")\n",
    "scores = cross_val_score(BDT_clf, train_x, train_y, cv=5)\n",
    "print(\"cross validation scores = \", scores)\n",
    "print(\"\\tmean = {:5.4f}\".format(scores.mean()))"
   ]
  },
  {
   "cell_type": "markdown",
   "metadata": {},
   "source": [
    "Changing the learning rate from 5 to 3 did not change the results."
   ]
  },
  {
   "cell_type": "markdown",
   "metadata": {},
   "source": [
    "## test_size = 0.4, n_estimators = 300, learning_rate = 2"
   ]
  },
  {
   "cell_type": "code",
   "execution_count": null,
   "metadata": {},
   "outputs": [
    {
     "name": "stdout",
     "output_type": "stream",
     "text": [
      "Decision Tree Classifier Score is:\n",
      "\tTrain Score =  0.6220560222188831\n",
      "\tTest Score  = 0.6223\n",
      "\tNumber of mis-classified test data = 103900.0\n"
     ]
    }
   ],
   "source": [
    "train_bkg, test_bkg = train_test_split(background, test_size=0.4, random_state=2)\n",
    "train_signal, test_signal = train_test_split(signal, test_size=0.4, random_state=2)\n",
    "\n",
    "train_y = len(train_bkg) * [0] + len(train_signal) * [1]\n",
    "test_y = len(test_bkg) * [0] + len(test_signal) * [1]\n",
    "\n",
    "train_x = pd.concat([train_bkg, train_signal], ignore_index=True)\n",
    "test_x = pd.concat([test_bkg, test_signal], ignore_index=True)\n",
    "\n",
    "train_x.drop([\"weight\"], axis=1, inplace=True)\n",
    "test_x.drop([\"weight\"], axis=1, inplace=True)\n",
    "\n",
    "\n",
    "BDT_clf = AdaBoostClassifier(n_estimators=300, learning_rate = 2).fit(train_x, train_y)\n",
    "train_score = BDT_clf.score(train_x, train_y)\n",
    "test_score  = BDT_clf.score(test_x, test_y)\n",
    "\n",
    "print(\"Decision Tree Classifier Score is:\")\n",
    "print(\"\\tTrain Score = \", train_score)\n",
    "print(\"\\tTest Score  = {:5.4f}\".format(test_score))\n",
    "print(\"\\tNumber of mis-classified test data = {:2.1f}\".format((1-test_score)*len(test_x)))"
   ]
  },
  {
   "cell_type": "code",
   "execution_count": null,
   "metadata": {},
   "outputs": [
    {
     "name": "stdout",
     "output_type": "stream",
     "text": [
      "\n",
      "\u001b[1mStudy the test data\u001b[0m\n",
      "\n",
      "confusion matrix (test) = \n",
      " [[154480  94700]\n",
      " [  9200  16702]]\n",
      "\n",
      "\u001b[1mCheck ground truth against predictions for the test sample\u001b[0m\n",
      "Truth\tPrediction\tCorrect Prediction\n",
      "\n",
      "\u001b[1mRun Cross Validation On the Sample\u001b[0m"
     ]
    },
    {
     "name": "stderr",
     "output_type": "stream",
     "text": [
      "C:\\Users\\bmand\\Anaconda3\\lib\\site-packages\\matplotlib\\cbook\\deprecation.py:107: MatplotlibDeprecationWarning: Adding an axes using the same arguments as a previous axes currently reuses the earlier instance.  In a future version, a new instance will always be created and returned.  Meanwhile, this warning can be suppressed, and the future behavior ensured, by passing a unique label to each axes instance.\n",
      "  warnings.warn(message, mplDeprecation, stacklevel=1)\n"
     ]
    }
   ],
   "source": [
    "print(\"\\n\\033[1mStudy the test data\\033[0m\")\n",
    "\n",
    "predictions = BDT_clf.predict(test_x)\n",
    "BDTcm = confusion_matrix(test_y, predictions)\n",
    "print(\"\\nconfusion matrix (test) = \\n\", BDTcm)\n",
    "\n",
    "ax= plt.subplot()\n",
    "sns.heatmap(BDTcm, center=True, ax = ax)\n",
    "ax.set_xlabel('Predicted');ax.set_ylabel('Truth'); \n",
    "ax.set_title('Confusion Matrix'); \n",
    "ax.xaxis.set_ticklabels(['background', 'signal']); ax.yaxis.set_ticklabels(['background', 'signal']);\n",
    "plt.show()\n",
    "\n",
    "print(\"\\n\\033[1mCheck ground truth against predictions for the test sample\\033[0m\")\n",
    "print(\"Truth\\tPrediction\\tCorrect Prediction\")\n",
    "for i in range(len(predictions)):\n",
    "    Match = False\n",
    "    if predictions[i] == test_y[i]:\n",
    "        Match = True\n",
    "\n",
    "print(\"\\n\\033[1mRun Cross Validation On the Sample\\033[0m\")\n",
    "scores = cross_val_score(BDT_clf, train_x, train_y, cv=5)\n",
    "print(\"cross validation scores = \", scores)\n",
    "print(\"\\tmean = {:5.4f}\".format(scores.mean()))"
   ]
  },
  {
   "cell_type": "markdown",
   "metadata": {},
   "source": [
    "## Using the DecissionTreeClassifer class"
   ]
  },
  {
   "cell_type": "markdown",
   "metadata": {},
   "source": [
    "### Testing max depth "
   ]
  },
  {
   "cell_type": "markdown",
   "metadata": {},
   "source": [
    "### max_depth = 1"
   ]
  },
  {
   "cell_type": "code",
   "execution_count": 15,
   "metadata": {},
   "outputs": [
    {
     "name": "stdout",
     "output_type": "stream",
     "text": [
      "Data has been split into test and train samples\n",
      "\tN(train) =  412622\n",
      "\tN(test)  =  275082\n"
     ]
    }
   ],
   "source": [
    "train_bkg, test_bkg = train_test_split(background, test_size=0.4, random_state=2)\n",
    "train_signal, test_signal = train_test_split(signal, test_size=0.4, random_state=2)\n",
    "\n",
    "train_y = len(train_bkg) * [0] + len(train_signal) * [1]\n",
    "test_y = len(test_bkg) * [0] + len(test_signal) * [1]\n",
    "\n",
    "train_x = pd.concat([train_bkg, train_signal], ignore_index=True)\n",
    "test_x = pd.concat([test_bkg, test_signal], ignore_index=True)\n",
    "\n",
    "train_x.drop([\"weight\"], axis=1, inplace=True)\n",
    "test_x.drop([\"weight\"], axis=1, inplace=True)\n",
    "\n",
    "print(\"Data has been split into test and train samples\")\n",
    "print(\"\\tN(train) = \", len(train_x))\n",
    "print(\"\\tN(test)  = \", len(test_x))"
   ]
  },
  {
   "cell_type": "code",
   "execution_count": 16,
   "metadata": {},
   "outputs": [
    {
     "name": "stdout",
     "output_type": "stream",
     "text": [
      "\u001b[1mFit the decision tree\u001b[0m\n",
      "... now compute the decision tree score\n",
      "\n",
      "Decision Tree Classifier Score is:\n",
      "\tTrain Score =  0.905841181517224  (This measure of performance is biased)\n",
      "\tTest Score  = 0.9058\n",
      "\tNumber of mis-classified test data = 25902.0\n"
     ]
    }
   ],
   "source": [
    "from sklearn.tree import DecisionTreeClassifier\n",
    "\n",
    "print(\"\\033[1mFit the decision tree\\033[0m\")\n",
    "#BDT_clf = AdaBoostClassifier(n_estimators=100).fit(train_x, train_y)\n",
    "BDT_clf = AdaBoostClassifier(DecisionTreeClassifier(max_depth=1), algorithm=\"SAMME\", n_estimators=100).fit(train_x, train_y)\n",
    "\n",
    "print(\"... now compute the decision tree score\")\n",
    "train_score = BDT_clf.score(train_x, train_y)\n",
    "test_score  = BDT_clf.score(test_x, test_y)\n",
    "\n",
    "print(\"\\nDecision Tree Classifier Score is:\")\n",
    "print(\"\\tTrain Score = \", train_score, \" (This measure of performance is biased)\")\n",
    "print(\"\\tTest Score  = {:5.4f}\".format(test_score))\n",
    "print(\"\\tNumber of mis-classified test data = {:2.1f}\".format((1-test_score)*len(test_x)))"
   ]
  },
  {
   "cell_type": "code",
   "execution_count": 17,
   "metadata": {},
   "outputs": [
    {
     "name": "stdout",
     "output_type": "stream",
     "text": [
      "\n",
      "\u001b[1mStudy the test data\u001b[0m\n",
      "\n",
      "confusion matrix (test) = \n",
      " [[249180      0]\n",
      " [ 25902      0]]\n"
     ]
    },
    {
     "data": {
      "image/png": "[encoded data removed]",
      "text/plain": [
       "<Figure size 432x288 with 2 Axes>"
      ]
     },
     "metadata": {},
     "output_type": "display_data"
    },
    {
     "name": "stdout",
     "output_type": "stream",
     "text": [
      "\n",
      "\u001b[1mCheck ground truth against predictions for the test sample\u001b[0m\n",
      "Truth\tPrediction\tCorrect Prediction\n",
      "\n",
      "\u001b[1mRun Cross Validation On the Sample\u001b[0m\n",
      "cross validation scores =  [0.9058346  0.9058346  0.90584557 0.90584557 0.90584557]\n",
      "\tmean = 0.9058\n"
     ]
    }
   ],
   "source": [
    "print(\"\\n\\033[1mStudy the test data\\033[0m\")\n",
    "\n",
    "predictions = BDT_clf.predict(test_x)\n",
    "BDTcm = confusion_matrix(test_y, predictions)\n",
    "print(\"\\nconfusion matrix (test) = \\n\", BDTcm)\n",
    "\n",
    "ax= plt.subplot()\n",
    "sns.heatmap(BDTcm, center=True, ax = ax)\n",
    "ax.set_xlabel('Predicted');ax.set_ylabel('Truth'); \n",
    "ax.set_title('Confusion Matrix'); \n",
    "ax.xaxis.set_ticklabels(['background', 'signal']); ax.yaxis.set_ticklabels(['background', 'signal']);\n",
    "plt.show()\n",
    "\n",
    "print(\"\\n\\033[1mCheck ground truth against predictions for the test sample\\033[0m\")\n",
    "print(\"Truth\\tPrediction\\tCorrect Prediction\")\n",
    "for i in range(len(predictions)):\n",
    "    Match = False\n",
    "    if predictions[i] == test_y[i]:\n",
    "        Match = True\n",
    "\n",
    "print(\"\\n\\033[1mRun Cross Validation On the Sample\\033[0m\")\n",
    "scores = cross_val_score(BDT_clf, train_x, train_y, cv=5)\n",
    "print(\"cross validation scores = \", scores)\n",
    "print(\"\\tmean = {:5.4f}\".format(scores.mean()))"
   ]
  },
  {
   "cell_type": "markdown",
   "metadata": {},
   "source": [
    "### max_depth = 2"
   ]
  },
  {
   "cell_type": "code",
   "execution_count": 10,
   "metadata": {},
   "outputs": [
    {
     "name": "stdout",
     "output_type": "stream",
     "text": [
      "Data has been split into test and train samples\n",
      "\tN(train) =  412622\n",
      "\tN(test)  =  275082\n"
     ]
    }
   ],
   "source": [
    "train_bkg, test_bkg = train_test_split(background, test_size=0.4, random_state=2)\n",
    "train_signal, test_signal = train_test_split(signal, test_size=0.4, random_state=2)\n",
    "\n",
    "train_y = len(train_bkg) * [0] + len(train_signal) * [1]\n",
    "test_y = len(test_bkg) * [0] + len(test_signal) * [1]\n",
    "\n",
    "train_x = pd.concat([train_bkg, train_signal], ignore_index=True)\n",
    "test_x = pd.concat([test_bkg, test_signal], ignore_index=True)\n",
    "\n",
    "train_x.drop([\"weight\"], axis=1, inplace=True)\n",
    "test_x.drop([\"weight\"], axis=1, inplace=True)\n",
    "\n",
    "print(\"Data has been split into test and train samples\")\n",
    "print(\"\\tN(train) = \", len(train_x))\n",
    "print(\"\\tN(test)  = \", len(test_x))"
   ]
  },
  {
   "cell_type": "code",
   "execution_count": 11,
   "metadata": {},
   "outputs": [
    {
     "name": "stdout",
     "output_type": "stream",
     "text": [
      "\u001b[1mFit the decision tree\u001b[0m\n",
      "... now compute the decision tree score\n",
      "\n",
      "Decision Tree Classifier Score is:\n",
      "\tTrain Score =  0.9059381225431509  (This measure of performance is biased)\n",
      "\tTest Score  = 0.9059\n",
      "\tNumber of mis-classified test data = 25894.0\n"
     ]
    }
   ],
   "source": [
    "from sklearn.tree import DecisionTreeClassifier\n",
    "\n",
    "print(\"\\033[1mFit the decision tree\\033[0m\")\n",
    "#BDT_clf = AdaBoostClassifier(n_estimators=100).fit(train_x, train_y)\n",
    "BDT_clf = AdaBoostClassifier(DecisionTreeClassifier(max_depth=2), algorithm=\"SAMME\", n_estimators=100).fit(train_x, train_y)\n",
    "\n",
    "print(\"... now compute the decision tree score\")\n",
    "train_score = BDT_clf.score(train_x, train_y)\n",
    "test_score  = BDT_clf.score(test_x, test_y)\n",
    "\n",
    "print(\"\\nDecision Tree Classifier Score is:\")\n",
    "print(\"\\tTrain Score = \", train_score, \" (This measure of performance is biased)\")\n",
    "print(\"\\tTest Score  = {:5.4f}\".format(test_score))\n",
    "print(\"\\tNumber of mis-classified test data = {:2.1f}\".format((1-test_score)*len(test_x)))"
   ]
  },
  {
   "cell_type": "code",
   "execution_count": 12,
   "metadata": {},
   "outputs": [
    {
     "name": "stdout",
     "output_type": "stream",
     "text": [
      "\n",
      "\u001b[1mStudy the test data\u001b[0m\n",
      "\n",
      "confusion matrix (test) = \n",
      " [[249029    151]\n",
      " [ 25743    159]]\n"
     ]
    },
    {
     "data": {
      "image/png": "[encoded data removed]",
      "text/plain": [
       "<Figure size 432x288 with 2 Axes>"
      ]
     },
     "metadata": {},
     "output_type": "display_data"
    },
    {
     "name": "stdout",
     "output_type": "stream",
     "text": [
      "\n",
      "\u001b[1mCheck ground truth against predictions for the test sample\u001b[0m\n",
      "Truth\tPrediction\tCorrect Prediction\n",
      "\n",
      "\u001b[1mRun Cross Validation On the Sample\u001b[0m\n",
      "cross validation scores =  [0.90621024 0.90588307 0.90571228 0.90584557 0.90586981]\n",
      "\tmean = 0.9059\n"
     ]
    }
   ],
   "source": [
    "print(\"\\n\\033[1mStudy the test data\\033[0m\")\n",
    "\n",
    "predictions = BDT_clf.predict(test_x)\n",
    "BDTcm = confusion_matrix(test_y, predictions)\n",
    "print(\"\\nconfusion matrix (test) = \\n\", BDTcm)\n",
    "\n",
    "ax= plt.subplot()\n",
    "sns.heatmap(BDTcm, center=True, ax = ax)\n",
    "ax.set_xlabel('Predicted');ax.set_ylabel('Truth'); \n",
    "ax.set_title('Confusion Matrix'); \n",
    "ax.xaxis.set_ticklabels(['background', 'signal']); ax.yaxis.set_ticklabels(['background', 'signal']);\n",
    "plt.show()\n",
    "\n",
    "print(\"\\n\\033[1mCheck ground truth against predictions for the test sample\\033[0m\")\n",
    "print(\"Truth\\tPrediction\\tCorrect Prediction\")\n",
    "for i in range(len(predictions)):\n",
    "    Match = False\n",
    "    if predictions[i] == test_y[i]:\n",
    "        Match = True\n",
    "\n",
    "print(\"\\n\\033[1mRun Cross Validation On the Sample\\033[0m\")\n",
    "scores = cross_val_score(BDT_clf, train_x, train_y, cv=5)\n",
    "print(\"cross validation scores = \", scores)\n",
    "print(\"\\tmean = {:5.4f}\".format(scores.mean()))"
   ]
  },
  {
   "cell_type": "markdown",
   "metadata": {},
   "source": [
    "### max_depth = 5"
   ]
  },
  {
   "cell_type": "code",
   "execution_count": 18,
   "metadata": {},
   "outputs": [
    {
     "name": "stdout",
     "output_type": "stream",
     "text": [
      "\u001b[1mFit the decision tree\u001b[0m\n",
      "... now compute the decision tree score\n",
      "\n",
      "Decision Tree Classifier Score is:\n",
      "\tTrain Score =  0.9060762635050966  (This measure of performance is biased)\n",
      "\tTest Score  = 0.9056\n",
      "\tNumber of mis-classified test data = 25968.0\n"
     ]
    }
   ],
   "source": [
    "from sklearn.tree import DecisionTreeClassifier\n",
    "\n",
    "print(\"\\033[1mFit the decision tree\\033[0m\")\n",
    "#BDT_clf = AdaBoostClassifier(n_estimators=100).fit(train_x, train_y)\n",
    "BDT_clf = AdaBoostClassifier(DecisionTreeClassifier(max_depth=5), algorithm=\"SAMME\", n_estimators=100).fit(train_x, train_y)\n",
    "\n",
    "print(\"... now compute the decision tree score\")\n",
    "train_score = BDT_clf.score(train_x, train_y)\n",
    "test_score  = BDT_clf.score(test_x, test_y)\n",
    "\n",
    "print(\"\\nDecision Tree Classifier Score is:\")\n",
    "print(\"\\tTrain Score = \", train_score, \" (This measure of performance is biased)\")\n",
    "print(\"\\tTest Score  = {:5.4f}\".format(test_score))\n",
    "print(\"\\tNumber of mis-classified test data = {:2.1f}\".format((1-test_score)*len(test_x)))"
   ]
  },
  {
   "cell_type": "code",
   "execution_count": 19,
   "metadata": {},
   "outputs": [
    {
     "name": "stdout",
     "output_type": "stream",
     "text": [
      "\n",
      "\u001b[1mStudy the test data\u001b[0m\n",
      "\n",
      "confusion matrix (test) = \n",
      " [[247901   1279]\n",
      " [ 24689   1213]]\n"
     ]
    },
    {
     "data": {
      "image/png": "[encoded data removed]",
      "text/plain": [
       "<Figure size 432x288 with 2 Axes>"
      ]
     },
     "metadata": {},
     "output_type": "display_data"
    },
    {
     "name": "stdout",
     "output_type": "stream",
     "text": [
      "\n",
      "\u001b[1mCheck ground truth against predictions for the test sample\u001b[0m\n",
      "Truth\tPrediction\tCorrect Prediction\n",
      "\n",
      "\u001b[1mRun Cross Validation On the Sample\u001b[0m\n",
      "cross validation scores =  [0.9059073  0.9054226  0.90586981 0.9057971  0.90548204]\n",
      "\tmean = 0.9057\n"
     ]
    }
   ],
   "source": [
    "print(\"\\n\\033[1mStudy the test data\\033[0m\")\n",
    "\n",
    "predictions = BDT_clf.predict(test_x)\n",
    "BDTcm = confusion_matrix(test_y, predictions)\n",
    "print(\"\\nconfusion matrix (test) = \\n\", BDTcm)\n",
    "\n",
    "ax= plt.subplot()\n",
    "sns.heatmap(BDTcm, center=True, ax = ax)\n",
    "ax.set_xlabel('Predicted');ax.set_ylabel('Truth'); \n",
    "ax.set_title('Confusion Matrix'); \n",
    "ax.xaxis.set_ticklabels(['background', 'signal']); ax.yaxis.set_ticklabels(['background', 'signal']);\n",
    "plt.show()\n",
    "\n",
    "print(\"\\n\\033[1mCheck ground truth against predictions for the test sample\\033[0m\")\n",
    "print(\"Truth\\tPrediction\\tCorrect Prediction\")\n",
    "for i in range(len(predictions)):\n",
    "    Match = False\n",
    "    if predictions[i] == test_y[i]:\n",
    "        Match = True\n",
    "\n",
    "print(\"\\n\\033[1mRun Cross Validation On the Sample\\033[0m\")\n",
    "scores = cross_val_score(BDT_clf, train_x, train_y, cv=5)\n",
    "print(\"cross validation scores = \", scores)\n",
    "print(\"\\tmean = {:5.4f}\".format(scores.mean()))"
   ]
  },
  {
   "cell_type": "markdown",
   "metadata": {},
   "source": [
    "From these results it shows that increasing the max depth does provide better results"
   ]
  },
  {
   "cell_type": "code",
   "execution_count": null,
   "metadata": {
    "collapsed": true
   },
   "outputs": [],
   "source": []
  }
 ],
 "metadata": {
  "kernelspec": {
   "display_name": "Python 3",
   "language": "python",
   "name": "python3"
  },
  "language_info": {
   "codemirror_mode": {
    "name": "ipython",
    "version": 3
   },
   "file_extension": ".py",
   "mimetype": "text/x-python",
   "name": "python",
   "nbconvert_exporter": "python",
   "pygments_lexer": "ipython3",
   "version": "3.6.3"
  }
 },
 "nbformat": 4,
 "nbformat_minor": 2
}
