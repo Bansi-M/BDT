{
 "cells": [
  {
   "cell_type": "markdown",
   "metadata": {},
   "source": [
    "# BDT Benchmark Tests"
   ]
  },
  {
   "cell_type": "markdown",
   "metadata": {},
   "source": [
    "### Variables being tested:"
   ]
  },
  {
   "cell_type": "markdown",
   "metadata": {},
   "source": [
    "- Test size/Training size\n",
    "    - test sizes: 0.4, 0.25, 0.6\n",
    "    - training sizes: 0.6, 0.75, 0.4\n",
    "- n estimators\n",
    "    - 100, 10000, 5000\n",
    "- learning rate\n",
    "    - 1, 10, 50\n",
    "- cross validation"
   ]
  },
  {
   "cell_type": "markdown",
   "metadata": {},
   "source": [
    "### Initial code (without any changes)"
   ]
  },
  {
   "cell_type": "markdown",
   "metadata": {},
   "source": [
    "- test size = 0.4\n",
    "- training size = 0.6\n",
    "- random state = 2\n",
    "- n estimators = 100\n",
    "- learning rate = 1"
   ]
  },
  {
   "cell_type": "code",
   "execution_count": 17,
   "metadata": {
    "collapsed": true
   },
   "outputs": [],
   "source": [
    "import numpy as np\n",
    "import matplotlib.pyplot as plt\n",
    "from sklearn.datasets import load_iris\n",
    "from sklearn.model_selection import cross_val_score\n",
    "from sklearn.model_selection import train_test_split\n",
    "from sklearn.ensemble import AdaBoostClassifier\n",
    "from sklearn.metrics import confusion_matrix\n",
    "import seaborn as sns\n",
    "\n",
    "import pandas as pd\n",
    "\n",
    "signal = pd.read_csv('.//data//300.csv', index_col=0)\n",
    "background = pd.read_csv('.//data//background.csv', index_col=0)\n",
    "\n",
    "signal.drop([\"nTags\", \"MCChannelNumber\", \"mVHres\"], axis=1, inplace=True)\n",
    "background.drop([\"nTags\", \"MCChannelNumber\", \"mVHres\"], axis=1, inplace=True)"
   ]
  },
  {
   "cell_type": "code",
   "execution_count": 3,
   "metadata": {},
   "outputs": [
    {
     "name": "stdout",
     "output_type": "stream",
     "text": [
      "Decision Tree Classifier Score is:\n",
      "\tTrain Score =  0.9059502401713917\n",
      "\tTest Score  = 0.9060\n",
      "\tNumber of mis-classified test data = 25866.0\n"
     ]
    }
   ],
   "source": [
    "train_bkg, test_bkg = train_test_split(background, test_size=0.4, random_state=2)\n",
    "train_signal, test_signal = train_test_split(signal, test_size=0.4, random_state=2)\n",
    "\n",
    "train_y = len(train_bkg) * [0] + len(train_signal) * [1]\n",
    "test_y = len(test_bkg) * [0] + len(test_signal) * [1]\n",
    "\n",
    "train_x = pd.concat([train_bkg, train_signal], ignore_index=True)\n",
    "test_x = pd.concat([test_bkg, test_signal], ignore_index=True)\n",
    "\n",
    "train_x.drop([\"weight\"], axis=1, inplace=True)\n",
    "test_x.drop([\"weight\"], axis=1, inplace=True)\n",
    "\n",
    "\n",
    "BDT_clf = AdaBoostClassifier(n_estimators=100).fit(train_x, train_y)\n",
    "train_score = BDT_clf.score(train_x, train_y)\n",
    "test_score  = BDT_clf.score(test_x, test_y)\n",
    "\n",
    "print(\"Decision Tree Classifier Score is:\")\n",
    "print(\"\\tTrain Score = \", train_score)\n",
    "print(\"\\tTest Score  = {:5.4f}\".format(test_score))\n",
    "print(\"\\tNumber of mis-classified test data = {:2.1f}\".format((1-test_score)*len(test_x)))"
   ]
  },
  {
   "cell_type": "code",
   "execution_count": 9,
   "metadata": {},
   "outputs": [
    {
     "name": "stdout",
     "output_type": "stream",
     "text": [
      "\n",
      "\u001b[1mStudy the test data\u001b[0m\n",
      "\n",
      "confusion matrix (test) = \n",
      " [[249072    108]\n",
      " [ 25758    144]]\n"
     ]
    },
    {
     "data": {
      "image/png": "[encoded data removed]",
      "text/plain": [
       "<Figure size 432x288 with 2 Axes>"
      ]
     },
     "metadata": {},
     "output_type": "display_data"
    },
    {
     "name": "stdout",
     "output_type": "stream",
     "text": [
      "\n",
      "\u001b[1mCheck ground truth against predictions for the test sample\u001b[0m\n",
      "Truth\tPrediction\tCorrect Prediction\n",
      "\n",
      "\u001b[1mRun Cross Validation On the Sample\u001b[0m\n",
      "cross validation scores =  [0.90596789 0.9059073  0.90617275 0.90584557 0.90589404]\n",
      "\tmean = 0.9060\n"
     ]
    }
   ],
   "source": [
    "print(\"\\n\\033[1mStudy the test data\\033[0m\")\n",
    "\n",
    "predictions = BDT_clf.predict(test_x)\n",
    "BDTcm = confusion_matrix(test_y, predictions)\n",
    "print(\"\\nconfusion matrix (test) = \\n\", BDTcm)\n",
    "\n",
    "ax= plt.subplot()\n",
    "sns.heatmap(BDTcm, center=True, ax = ax)\n",
    "ax.set_xlabel('Predicted');ax.set_ylabel('Truth'); \n",
    "ax.set_title('Confusion Matrix'); \n",
    "ax.xaxis.set_ticklabels(['background', 'signal']); ax.yaxis.set_ticklabels(['background', 'signal']);\n",
    "plt.show()\n",
    "\n",
    "print(\"\\n\\033[1mCheck ground truth against predictions for the test sample\\033[0m\")\n",
    "print(\"Truth\\tPrediction\\tCorrect Prediction\")\n",
    "for i in range(len(predictions)):\n",
    "    Match = False\n",
    "    if predictions[i] == test_y[i]:\n",
    "        Match = True\n",
    "\n",
    "print(\"\\n\\033[1mRun Cross Validation On the Sample\\033[0m\")\n",
    "scores = cross_val_score(BDT_clf, train_x, train_y, cv=5)\n",
    "print(\"cross validation scores = \", scores)\n",
    "print(\"\\tmean = {:5.4f}\".format(scores.mean()))"
   ]
  },
  {
   "cell_type": "markdown",
   "metadata": {},
   "source": [
    "### Test size/Training size"
   ]
  },
  {
   "cell_type": "markdown",
   "metadata": {},
   "source": [
    "- test size = 0.25\n",
    "- training size = 0.75"
   ]
  },
  {
   "cell_type": "code",
   "execution_count": 10,
   "metadata": {},
   "outputs": [
    {
     "name": "stdout",
     "output_type": "stream",
     "text": [
      "Decision Tree Classifier Score is:\n",
      "\tTrain Score =  0.9059399701809115\n",
      "\tTest Score  = 0.9060\n",
      "\tNumber of mis-classified test data = 16161.0\n"
     ]
    }
   ],
   "source": [
    "train_bkg, test_bkg = train_test_split(background, test_size=0.25, random_state=2)\n",
    "train_signal, test_signal = train_test_split(signal, test_size=0.25, random_state=2)\n",
    "\n",
    "train_y = len(train_bkg) * [0] + len(train_signal) * [1]\n",
    "test_y = len(test_bkg) * [0] + len(test_signal) * [1]\n",
    "\n",
    "train_x = pd.concat([train_bkg, train_signal], ignore_index=True)\n",
    "test_x = pd.concat([test_bkg, test_signal], ignore_index=True)\n",
    "\n",
    "train_x.drop([\"weight\"], axis=1, inplace=True)\n",
    "test_x.drop([\"weight\"], axis=1, inplace=True)\n",
    "\n",
    "\n",
    "BDT_clf = AdaBoostClassifier(n_estimators=100).fit(train_x, train_y)\n",
    "train_score = BDT_clf.score(train_x, train_y)\n",
    "test_score  = BDT_clf.score(test_x, test_y)\n",
    "\n",
    "print(\"Decision Tree Classifier Score is:\")\n",
    "print(\"\\tTrain Score = \", train_score)\n",
    "print(\"\\tTest Score  = {:5.4f}\".format(test_score))\n",
    "print(\"\\tNumber of mis-classified test data = {:2.1f}\".format((1-test_score)*len(test_x)))"
   ]
  },
  {
   "cell_type": "code",
   "execution_count": 11,
   "metadata": {},
   "outputs": [
    {
     "name": "stdout",
     "output_type": "stream",
     "text": [
      "\n",
      "\u001b[1mStudy the test data\u001b[0m\n",
      "\n",
      "confusion matrix (test) = \n",
      " [[155695     43]\n",
      " [ 16118     71]]\n"
     ]
    },
    {
     "data": {
      "image/png": "[encoded data removed]",
      "text/plain": [
       "<Figure size 432x288 with 2 Axes>"
      ]
     },
     "metadata": {},
     "output_type": "display_data"
    },
    {
     "name": "stdout",
     "output_type": "stream",
     "text": [
      "\n",
      "\u001b[1mCheck ground truth against predictions for the test sample\u001b[0m\n",
      "Truth\tPrediction\tCorrect Prediction\n",
      "\n",
      "\u001b[1mRun Cross Validation On the Sample\u001b[0m\n",
      "cross validation scores =  [0.90593858 0.90603552 0.90582134 0.90589889 0.90591828]\n",
      "\tmean = 0.9059\n"
     ]
    }
   ],
   "source": [
    "print(\"\\n\\033[1mStudy the test data\\033[0m\")\n",
    "\n",
    "predictions = BDT_clf.predict(test_x)\n",
    "BDTcm = confusion_matrix(test_y, predictions)\n",
    "print(\"\\nconfusion matrix (test) = \\n\", BDTcm)\n",
    "\n",
    "ax= plt.subplot()\n",
    "sns.heatmap(BDTcm, center=True, ax = ax)\n",
    "ax.set_xlabel('Predicted');ax.set_ylabel('Truth'); \n",
    "ax.set_title('Confusion Matrix'); \n",
    "ax.xaxis.set_ticklabels(['background', 'signal']); ax.yaxis.set_ticklabels(['background', 'signal']);\n",
    "plt.show()\n",
    "\n",
    "print(\"\\n\\033[1mCheck ground truth against predictions for the test sample\\033[0m\")\n",
    "print(\"Truth\\tPrediction\\tCorrect Prediction\")\n",
    "for i in range(len(predictions)):\n",
    "    Match = False\n",
    "    if predictions[i] == test_y[i]:\n",
    "        Match = True\n",
    "\n",
    "print(\"\\n\\033[1mRun Cross Validation On the Sample\\033[0m\")\n",
    "scores = cross_val_score(BDT_clf, train_x, train_y, cv=5)\n",
    "print(\"cross validation scores = \", scores)\n",
    "print(\"\\tmean = {:5.4f}\".format(scores.mean()))"
   ]
  },
  {
   "cell_type": "markdown",
   "metadata": {},
   "source": [
    "- test size = 0.6\n",
    "- training size = 0.4"
   ]
  },
  {
   "cell_type": "code",
   "execution_count": 13,
   "metadata": {},
   "outputs": [
    {
     "name": "stdout",
     "output_type": "stream",
     "text": [
      "Decision Tree Classifier Score is:\n",
      "\tTrain Score =  0.9059804203125624\n",
      "\tTest Score  = 0.9060\n",
      "\tNumber of mis-classified test data = 38807.0\n"
     ]
    }
   ],
   "source": [
    "train_bkg, test_bkg = train_test_split(background, test_size=0.6, random_state=2)\n",
    "train_signal, test_signal = train_test_split(signal, test_size=0.6, random_state=2)\n",
    "\n",
    "train_y = len(train_bkg) * [0] + len(train_signal) * [1]\n",
    "test_y = len(test_bkg) * [0] + len(test_signal) * [1]\n",
    "\n",
    "train_x = pd.concat([train_bkg, train_signal], ignore_index=True)\n",
    "test_x = pd.concat([test_bkg, test_signal], ignore_index=True)\n",
    "\n",
    "train_x.drop([\"weight\"], axis=1, inplace=True)\n",
    "test_x.drop([\"weight\"], axis=1, inplace=True)\n",
    "\n",
    "\n",
    "BDT_clf = AdaBoostClassifier(n_estimators=100).fit(train_x, train_y)\n",
    "train_score = BDT_clf.score(train_x, train_y)\n",
    "test_score  = BDT_clf.score(test_x, test_y)\n",
    "\n",
    "print(\"Decision Tree Classifier Score is:\")\n",
    "print(\"\\tTrain Score = \", train_score)\n",
    "print(\"\\tTest Score  = {:5.4f}\".format(test_score))\n",
    "print(\"\\tNumber of mis-classified test data = {:2.1f}\".format((1-test_score)*len(test_x)))"
   ]
  },
  {
   "cell_type": "code",
   "execution_count": 14,
   "metadata": {},
   "outputs": [
    {
     "name": "stdout",
     "output_type": "stream",
     "text": [
      "\n",
      "\u001b[1mStudy the test data\u001b[0m\n",
      "\n",
      "confusion matrix (test) = \n",
      " [[373595    175]\n",
      " [ 38632    221]]\n"
     ]
    },
    {
     "data": {
      "image/png": "[encoded data removed]",
      "text/plain": [
       "<Figure size 432x288 with 2 Axes>"
      ]
     },
     "metadata": {},
     "output_type": "display_data"
    },
    {
     "name": "stdout",
     "output_type": "stream",
     "text": [
      "\n",
      "\u001b[1mCheck ground truth against predictions for the test sample\u001b[0m\n",
      "Truth\tPrediction\tCorrect Prediction\n",
      "\n",
      "\u001b[1mRun Cross Validation On the Sample\u001b[0m\n",
      "cross validation scores =  [0.90584728 0.90608187 0.9058274  0.90575469 0.90573651]\n",
      "\tmean = 0.9058\n"
     ]
    }
   ],
   "source": [
    "print(\"\\n\\033[1mStudy the test data\\033[0m\")\n",
    "\n",
    "predictions = BDT_clf.predict(test_x)\n",
    "BDTcm = confusion_matrix(test_y, predictions)\n",
    "print(\"\\nconfusion matrix (test) = \\n\", BDTcm)\n",
    "\n",
    "ax= plt.subplot()\n",
    "sns.heatmap(BDTcm, center=True, ax = ax)\n",
    "ax.set_xlabel('Predicted');ax.set_ylabel('Truth'); \n",
    "ax.set_title('Confusion Matrix'); \n",
    "ax.xaxis.set_ticklabels(['background', 'signal']); ax.yaxis.set_ticklabels(['background', 'signal']);\n",
    "plt.show()\n",
    "\n",
    "print(\"\\n\\033[1mCheck ground truth against predictions for the test sample\\033[0m\")\n",
    "print(\"Truth\\tPrediction\\tCorrect Prediction\")\n",
    "for i in range(len(predictions)):\n",
    "    Match = False\n",
    "    if predictions[i] == test_y[i]:\n",
    "        Match = True\n",
    "\n",
    "print(\"\\n\\033[1mRun Cross Validation On the Sample\\033[0m\")\n",
    "scores = cross_val_score(BDT_clf, train_x, train_y, cv=5)\n",
    "print(\"cross validation scores = \", scores)\n",
    "print(\"\\tmean = {:5.4f}\".format(scores.mean()))"
   ]
  },
  {
   "cell_type": "markdown",
   "metadata": {},
   "source": [
    "- test size = 0.8\n",
    "- training size = 0.2"
   ]
  },
  {
   "cell_type": "code",
   "execution_count": 15,
   "metadata": {},
   "outputs": [
    {
     "name": "stdout",
     "output_type": "stream",
     "text": [
      "Decision Tree Classifier Score is:\n",
      "\tTrain Score =  0.9060127962774466\n",
      "\tTest Score  = 0.9060\n",
      "\tNumber of mis-classified test data = 51737.0\n"
     ]
    }
   ],
   "source": [
    "train_bkg, test_bkg = train_test_split(background, test_size=0.8, random_state=2)\n",
    "train_signal, test_signal = train_test_split(signal, test_size=0.8, random_state=2)\n",
    "\n",
    "train_y = len(train_bkg) * [0] + len(train_signal) * [1]\n",
    "test_y = len(test_bkg) * [0] + len(test_signal) * [1]\n",
    "\n",
    "train_x = pd.concat([train_bkg, train_signal], ignore_index=True)\n",
    "test_x = pd.concat([test_bkg, test_signal], ignore_index=True)\n",
    "\n",
    "train_x.drop([\"weight\"], axis=1, inplace=True)\n",
    "test_x.drop([\"weight\"], axis=1, inplace=True)\n",
    "\n",
    "\n",
    "BDT_clf = AdaBoostClassifier(n_estimators=100).fit(train_x, train_y)\n",
    "train_score = BDT_clf.score(train_x, train_y)\n",
    "test_score  = BDT_clf.score(test_x, test_y)\n",
    "\n",
    "print(\"Decision Tree Classifier Score is:\")\n",
    "print(\"\\tTrain Score = \", train_score)\n",
    "print(\"\\tTest Score  = {:5.4f}\".format(test_score))\n",
    "print(\"\\tNumber of mis-classified test data = {:2.1f}\".format((1-test_score)*len(test_x)))"
   ]
  },
  {
   "cell_type": "code",
   "execution_count": 16,
   "metadata": {},
   "outputs": [
    {
     "name": "stdout",
     "output_type": "stream",
     "text": [
      "\n",
      "\u001b[1mStudy the test data\u001b[0m\n",
      "\n",
      "confusion matrix (test) = \n",
      " [[498016    344]\n",
      " [ 51393    411]]\n"
     ]
    },
    {
     "data": {
      "image/png": "[encoded data removed]",
      "text/plain": [
       "<Figure size 432x288 with 2 Axes>"
      ]
     },
     "metadata": {},
     "output_type": "display_data"
    },
    {
     "name": "stdout",
     "output_type": "stream",
     "text": [
      "\n",
      "\u001b[1mCheck ground truth against predictions for the test sample\u001b[0m\n",
      "Truth\tPrediction\tCorrect Prediction\n",
      "\n",
      "\u001b[1mRun Cross Validation On the Sample\u001b[0m\n",
      "cross validation scores =  [0.90595463 0.90599098 0.9061364  0.90595463 0.90570016]\n",
      "\tmean = 0.9059\n"
     ]
    }
   ],
   "source": [
    "print(\"\\n\\033[1mStudy the test data\\033[0m\")\n",
    "\n",
    "predictions = BDT_clf.predict(test_x)\n",
    "BDTcm = confusion_matrix(test_y, predictions)\n",
    "print(\"\\nconfusion matrix (test) = \\n\", BDTcm)\n",
    "\n",
    "ax= plt.subplot()\n",
    "sns.heatmap(BDTcm, center=True, ax = ax)\n",
    "ax.set_xlabel('Predicted');ax.set_ylabel('Truth'); \n",
    "ax.set_title('Confusion Matrix'); \n",
    "ax.xaxis.set_ticklabels(['background', 'signal']); ax.yaxis.set_ticklabels(['background', 'signal']);\n",
    "plt.show()\n",
    "\n",
    "print(\"\\n\\033[1mCheck ground truth against predictions for the test sample\\033[0m\")\n",
    "print(\"Truth\\tPrediction\\tCorrect Prediction\")\n",
    "for i in range(len(predictions)):\n",
    "    Match = False\n",
    "    if predictions[i] == test_y[i]:\n",
    "        Match = True\n",
    "\n",
    "print(\"\\n\\033[1mRun Cross Validation On the Sample\\033[0m\")\n",
    "scores = cross_val_score(BDT_clf, train_x, train_y, cv=5)\n",
    "print(\"cross validation scores = \", scores)\n",
    "print(\"\\tmean = {:5.4f}\".format(scores.mean()))"
   ]
  },
  {
   "cell_type": "markdown",
   "metadata": {},
   "source": [
    "### n estimators"
   ]
  },
  {
   "cell_type": "markdown",
   "metadata": {},
   "source": [
    "- n estimators = 1000"
   ]
  },
  {
   "cell_type": "code",
   "execution_count": 20,
   "metadata": {},
   "outputs": [
    {
     "name": "stdout",
     "output_type": "stream",
     "text": [
      "Decision Tree Classifier Score is:\n",
      "\tTrain Score =  0.9062265220952833\n",
      "\tTest Score  = 0.9061\n",
      "\tNumber of mis-classified test data = 25831.0\n"
     ]
    }
   ],
   "source": [
    "train_bkg, test_bkg = train_test_split(background, test_size=0.4, random_state=2)\n",
    "train_signal, test_signal = train_test_split(signal, test_size=0.4, random_state=2)\n",
    "\n",
    "train_y = len(train_bkg) * [0] + len(train_signal) * [1]\n",
    "test_y = len(test_bkg) * [0] + len(test_signal) * [1]\n",
    "\n",
    "train_x = pd.concat([train_bkg, train_signal], ignore_index=True)\n",
    "test_x = pd.concat([test_bkg, test_signal], ignore_index=True)\n",
    "\n",
    "train_x.drop([\"weight\"], axis=1, inplace=True)\n",
    "test_x.drop([\"weight\"], axis=1, inplace=True)\n",
    "\n",
    "\n",
    "BDT_clf = AdaBoostClassifier(n_estimators=1000).fit(train_x, train_y)\n",
    "train_score = BDT_clf.score(train_x, train_y)\n",
    "test_score  = BDT_clf.score(test_x, test_y)\n",
    "\n",
    "print(\"Decision Tree Classifier Score is:\")\n",
    "print(\"\\tTrain Score = \", train_score)\n",
    "print(\"\\tTest Score  = {:5.4f}\".format(test_score))\n",
    "print(\"\\tNumber of mis-classified test data = {:2.1f}\".format((1-test_score)*len(test_x)))"
   ]
  },
  {
   "cell_type": "code",
   "execution_count": 21,
   "metadata": {},
   "outputs": [
    {
     "name": "stdout",
     "output_type": "stream",
     "text": [
      "\n",
      "\u001b[1mStudy the test data\u001b[0m\n",
      "\n",
      "confusion matrix (test) = \n",
      " [[248954    226]\n",
      " [ 25605    297]]\n"
     ]
    },
    {
     "data": {
      "image/png": "[encoded data removed]",
      "text/plain": [
       "<Figure size 432x288 with 2 Axes>"
      ]
     },
     "metadata": {},
     "output_type": "display_data"
    },
    {
     "name": "stdout",
     "output_type": "stream",
     "text": [
      "\n",
      "\u001b[1mCheck ground truth against predictions for the test sample\u001b[0m\n",
      "Truth\tPrediction\tCorrect Prediction\n",
      "\n",
      "\u001b[1mRun Cross Validation On the Sample\u001b[0m\n",
      "cross validation scores =  [0.90605271 0.90584671 0.90590616 0.90596675 0.90610004]\n",
      "\tmean = 0.9060\n"
     ]
    }
   ],
   "source": [
    "print(\"\\n\\033[1mStudy the test data\\033[0m\")\n",
    "\n",
    "predictions = BDT_clf.predict(test_x)\n",
    "BDTcm = confusion_matrix(test_y, predictions)\n",
    "print(\"\\nconfusion matrix (test) = \\n\", BDTcm)\n",
    "\n",
    "ax= plt.subplot()\n",
    "sns.heatmap(BDTcm, center=True, ax = ax)\n",
    "ax.set_xlabel('Predicted');ax.set_ylabel('Truth'); \n",
    "ax.set_title('Confusion Matrix'); \n",
    "ax.xaxis.set_ticklabels(['background', 'signal']); ax.yaxis.set_ticklabels(['background', 'signal']);\n",
    "plt.show()\n",
    "\n",
    "print(\"\\n\\033[1mCheck ground truth against predictions for the test sample\\033[0m\")\n",
    "print(\"Truth\\tPrediction\\tCorrect Prediction\")\n",
    "for i in range(len(predictions)):\n",
    "    Match = False\n",
    "    if predictions[i] == test_y[i]:\n",
    "        Match = True\n",
    "\n",
    "print(\"\\n\\033[1mRun Cross Validation On the Sample\\033[0m\")\n",
    "scores = cross_val_score(BDT_clf, train_x, train_y, cv=5)\n",
    "print(\"cross validation scores = \", scores)\n",
    "print(\"\\tmean = {:5.4f}\".format(scores.mean()))"
   ]
  },
  {
   "cell_type": "code",
   "execution_count": null,
   "metadata": {
    "collapsed": true
   },
   "outputs": [],
   "source": []
  }
 ],
 "metadata": {
  "kernelspec": {
   "display_name": "Python 3",
   "language": "python",
   "name": "python3"
  },
  "language_info": {
   "codemirror_mode": {
    "name": "ipython",
    "version": 3
   },
   "file_extension": ".py",
   "mimetype": "text/x-python",
   "name": "python",
   "nbconvert_exporter": "python",
   "pygments_lexer": "ipython3",
   "version": "3.6.3"
  }
 },
 "nbformat": 4,
 "nbformat_minor": 2
}
